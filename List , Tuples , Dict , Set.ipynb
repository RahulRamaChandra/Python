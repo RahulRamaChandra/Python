{
 "cells": [
  {
   "cell_type": "code",
   "execution_count": 1,
   "id": "88dc117b",
   "metadata": {},
   "outputs": [],
   "source": [
    "l = [1,2,3,4,5,\"sudh\",45.67 , True]"
   ]
  },
  {
   "cell_type": "code",
   "execution_count": 2,
   "id": "01bffa6f",
   "metadata": {},
   "outputs": [
    {
     "data": {
      "text/plain": [
       "1"
      ]
     },
     "execution_count": 2,
     "metadata": {},
     "output_type": "execute_result"
    }
   ],
   "source": [
    "l[0]"
   ]
  },
  {
   "cell_type": "code",
   "execution_count": 3,
   "id": "37ddd789",
   "metadata": {},
   "outputs": [
    {
     "data": {
      "text/plain": [
       "True"
      ]
     },
     "execution_count": 3,
     "metadata": {},
     "output_type": "execute_result"
    }
   ],
   "source": [
    "l[-1]"
   ]
  },
  {
   "cell_type": "code",
   "execution_count": 4,
   "id": "b92ac681",
   "metadata": {},
   "outputs": [
    {
     "data": {
      "text/plain": [
       "8"
      ]
     },
     "execution_count": 4,
     "metadata": {},
     "output_type": "execute_result"
    }
   ],
   "source": [
    "len(l)"
   ]
  },
  {
   "cell_type": "code",
   "execution_count": 5,
   "id": "c4f53800",
   "metadata": {},
   "outputs": [
    {
     "data": {
      "text/plain": [
       "[1, 2, 3, 4, 5]"
      ]
     },
     "execution_count": 5,
     "metadata": {},
     "output_type": "execute_result"
    }
   ],
   "source": [
    "l[0:5]"
   ]
  },
  {
   "cell_type": "code",
   "execution_count": 6,
   "id": "1634e08b",
   "metadata": {},
   "outputs": [
    {
     "data": {
      "text/plain": [
       "[True, 45.67, 'sudh', 5, 4, 3, 2, 1]"
      ]
     },
     "execution_count": 6,
     "metadata": {},
     "output_type": "execute_result"
    }
   ],
   "source": [
    "l[::-1]"
   ]
  },
  {
   "cell_type": "code",
   "execution_count": 7,
   "id": "e4e2b1c0",
   "metadata": {},
   "outputs": [
    {
     "data": {
      "text/plain": [
       "[1, 2, 3, 4, 5, 'sudh', 45.67, True]"
      ]
     },
     "execution_count": 7,
     "metadata": {},
     "output_type": "execute_result"
    }
   ],
   "source": [
    "l[0:100]"
   ]
  },
  {
   "cell_type": "code",
   "execution_count": 8,
   "id": "b5d85217",
   "metadata": {},
   "outputs": [
    {
     "data": {
      "text/plain": [
       "[1, 3, 5, 45.67]"
      ]
     },
     "execution_count": 8,
     "metadata": {},
     "output_type": "execute_result"
    }
   ],
   "source": [
    "l[0:100:2]"
   ]
  },
  {
   "cell_type": "code",
   "execution_count": 9,
   "id": "1328dc92",
   "metadata": {},
   "outputs": [
    {
     "data": {
      "text/plain": [
       "[]"
      ]
     },
     "execution_count": 9,
     "metadata": {},
     "output_type": "execute_result"
    }
   ],
   "source": [
    "l[0:8:-1]"
   ]
  },
  {
   "cell_type": "code",
   "execution_count": 10,
   "id": "6a3cdffd",
   "metadata": {},
   "outputs": [
    {
     "data": {
      "text/plain": [
       "[1, 2, 3]"
      ]
     },
     "execution_count": 10,
     "metadata": {},
     "output_type": "execute_result"
    }
   ],
   "source": [
    "l[:3]"
   ]
  },
  {
   "cell_type": "code",
   "execution_count": 11,
   "id": "0eef025f",
   "metadata": {},
   "outputs": [
    {
     "ename": "TypeError",
     "evalue": "can only concatenate list (not \"str\") to list",
     "output_type": "error",
     "traceback": [
      "\u001b[1;31m---------------------------------------------------------------------------\u001b[0m",
      "\u001b[1;31mTypeError\u001b[0m                                 Traceback (most recent call last)",
      "\u001b[1;32m~\\AppData\\Local\\Temp\\4/ipykernel_15824/4253538468.py\u001b[0m in \u001b[0;36m<module>\u001b[1;34m\u001b[0m\n\u001b[1;32m----> 1\u001b[1;33m \u001b[0ml\u001b[0m \u001b[1;33m+\u001b[0m \u001b[1;34m\"sudh\"\u001b[0m\u001b[1;33m\u001b[0m\u001b[1;33m\u001b[0m\u001b[0m\n\u001b[0m",
      "\u001b[1;31mTypeError\u001b[0m: can only concatenate list (not \"str\") to list"
     ]
    }
   ],
   "source": [
    "l + \"sudh\""
   ]
  },
  {
   "cell_type": "code",
   "execution_count": 12,
   "id": "e583a75d",
   "metadata": {},
   "outputs": [
    {
     "data": {
      "text/plain": [
       "[1, 2, 3, 4, 5, 'sudh', 45.67, True, 'sudh']"
      ]
     },
     "execution_count": 12,
     "metadata": {},
     "output_type": "execute_result"
    }
   ],
   "source": [
    "l + [\"sudh\"]"
   ]
  },
  {
   "cell_type": "code",
   "execution_count": 13,
   "id": "7f90b037",
   "metadata": {},
   "outputs": [
    {
     "data": {
      "text/plain": [
       "[1, 2, 3, 4, 5, 'sudh', 45.67, True, 1, 2, 3, 4, 5, 'sudh', 45.67, True]"
      ]
     },
     "execution_count": 13,
     "metadata": {},
     "output_type": "execute_result"
    }
   ],
   "source": [
    "l * 2"
   ]
  },
  {
   "cell_type": "code",
   "execution_count": 14,
   "id": "11529132",
   "metadata": {},
   "outputs": [
    {
     "data": {
      "text/plain": [
       "[1, 2, 3, 4, 5, 'sudh', 45.67, True]"
      ]
     },
     "execution_count": 14,
     "metadata": {},
     "output_type": "execute_result"
    }
   ],
   "source": [
    "l"
   ]
  },
  {
   "cell_type": "code",
   "execution_count": 15,
   "id": "c87306ce",
   "metadata": {},
   "outputs": [
    {
     "data": {
      "text/plain": [
       "False"
      ]
     },
     "execution_count": 15,
     "metadata": {},
     "output_type": "execute_result"
    }
   ],
   "source": [
    "60 in l"
   ]
  },
  {
   "cell_type": "code",
   "execution_count": 17,
   "id": "e057b854",
   "metadata": {},
   "outputs": [
    {
     "data": {
      "text/plain": [
       "True"
      ]
     },
     "execution_count": 17,
     "metadata": {},
     "output_type": "execute_result"
    }
   ],
   "source": [
    "\"sudh\" in l"
   ]
  },
  {
   "cell_type": "code",
   "execution_count": 18,
   "id": "042a7132",
   "metadata": {},
   "outputs": [
    {
     "data": {
      "text/plain": [
       "True"
      ]
     },
     "execution_count": 18,
     "metadata": {},
     "output_type": "execute_result"
    }
   ],
   "source": [
    "2 in l"
   ]
  },
  {
   "cell_type": "code",
   "execution_count": 19,
   "id": "8d9687e9",
   "metadata": {},
   "outputs": [
    {
     "ename": "TypeError",
     "evalue": "'>' not supported between instances of 'str' and 'int'",
     "output_type": "error",
     "traceback": [
      "\u001b[1;31m---------------------------------------------------------------------------\u001b[0m",
      "\u001b[1;31mTypeError\u001b[0m                                 Traceback (most recent call last)",
      "\u001b[1;32m~\\AppData\\Local\\Temp\\4/ipykernel_15824/1790536805.py\u001b[0m in \u001b[0;36m<module>\u001b[1;34m\u001b[0m\n\u001b[1;32m----> 1\u001b[1;33m \u001b[0mmax\u001b[0m\u001b[1;33m(\u001b[0m\u001b[0ml\u001b[0m\u001b[1;33m)\u001b[0m\u001b[1;33m\u001b[0m\u001b[1;33m\u001b[0m\u001b[0m\n\u001b[0m",
      "\u001b[1;31mTypeError\u001b[0m: '>' not supported between instances of 'str' and 'int'"
     ]
    }
   ],
   "source": [
    "max(l)"
   ]
  },
  {
   "cell_type": "code",
   "execution_count": 20,
   "id": "c6e31820",
   "metadata": {},
   "outputs": [],
   "source": [
    "l1 = [3,4,5,6,6]"
   ]
  },
  {
   "cell_type": "code",
   "execution_count": 21,
   "id": "0264a1be",
   "metadata": {},
   "outputs": [
    {
     "data": {
      "text/plain": [
       "6"
      ]
     },
     "execution_count": 21,
     "metadata": {},
     "output_type": "execute_result"
    }
   ],
   "source": [
    "max(l1)"
   ]
  },
  {
   "cell_type": "code",
   "execution_count": 22,
   "id": "53c90494",
   "metadata": {},
   "outputs": [
    {
     "data": {
      "text/plain": [
       "[1, 2, 3, 4, 5, 'sudh', 45.67, True]"
      ]
     },
     "execution_count": 22,
     "metadata": {},
     "output_type": "execute_result"
    }
   ],
   "source": [
    "l"
   ]
  },
  {
   "cell_type": "code",
   "execution_count": 23,
   "id": "7ea22419",
   "metadata": {},
   "outputs": [],
   "source": [
    "l2 = [\"sudh\" , \"ineuron\" , \"kumar\"]"
   ]
  },
  {
   "cell_type": "code",
   "execution_count": 24,
   "id": "4bf3c471",
   "metadata": {},
   "outputs": [
    {
     "data": {
      "text/plain": [
       "'sudh'"
      ]
     },
     "execution_count": 24,
     "metadata": {},
     "output_type": "execute_result"
    }
   ],
   "source": [
    "max(l2)"
   ]
  },
  {
   "cell_type": "code",
   "execution_count": 31,
   "id": "cd132f44",
   "metadata": {},
   "outputs": [
    {
     "data": {
      "text/plain": [
       "'ineuron'"
      ]
     },
     "execution_count": 31,
     "metadata": {},
     "output_type": "execute_result"
    }
   ],
   "source": [
    "min(l2)"
   ]
  },
  {
   "cell_type": "code",
   "execution_count": 25,
   "id": "884d16dc",
   "metadata": {},
   "outputs": [],
   "source": [
    "l3 = [1,4,56,6.7,78.9]"
   ]
  },
  {
   "cell_type": "code",
   "execution_count": 26,
   "id": "0de74071",
   "metadata": {},
   "outputs": [
    {
     "data": {
      "text/plain": [
       "78.9"
      ]
     },
     "execution_count": 26,
     "metadata": {},
     "output_type": "execute_result"
    }
   ],
   "source": [
    "max(l3)"
   ]
  },
  {
   "cell_type": "code",
   "execution_count": 29,
   "id": "5d8c3e1a",
   "metadata": {},
   "outputs": [],
   "source": [
    "l4 = l3 + [90]"
   ]
  },
  {
   "cell_type": "code",
   "execution_count": 28,
   "id": "99335e85",
   "metadata": {},
   "outputs": [
    {
     "data": {
      "text/plain": [
       "[1, 4, 56, 6.7, 78.9]"
      ]
     },
     "execution_count": 28,
     "metadata": {},
     "output_type": "execute_result"
    }
   ],
   "source": [
    "l3"
   ]
  },
  {
   "cell_type": "code",
   "execution_count": 30,
   "id": "cc124389",
   "metadata": {},
   "outputs": [
    {
     "data": {
      "text/plain": [
       "90"
      ]
     },
     "execution_count": 30,
     "metadata": {},
     "output_type": "execute_result"
    }
   ],
   "source": [
    "max(l4)"
   ]
  },
  {
   "cell_type": "code",
   "execution_count": 32,
   "id": "96dbe95e",
   "metadata": {},
   "outputs": [],
   "source": [
    "l.append(\"kumar\")"
   ]
  },
  {
   "cell_type": "code",
   "execution_count": 33,
   "id": "a61eab85",
   "metadata": {},
   "outputs": [
    {
     "data": {
      "text/plain": [
       "[1, 2, 3, 4, 5, 'sudh', 45.67, True, 'kumar']"
      ]
     },
     "execution_count": 33,
     "metadata": {},
     "output_type": "execute_result"
    }
   ],
   "source": [
    "l"
   ]
  },
  {
   "cell_type": "code",
   "execution_count": 34,
   "id": "be5651f4",
   "metadata": {},
   "outputs": [],
   "source": [
    "l.append([1,2,3,4])"
   ]
  },
  {
   "cell_type": "code",
   "execution_count": 35,
   "id": "a949959a",
   "metadata": {},
   "outputs": [
    {
     "data": {
      "text/plain": [
       "[1, 2, 3, 4, 5, 'sudh', 45.67, True, 'kumar', [1, 2, 3, 4]]"
      ]
     },
     "execution_count": 35,
     "metadata": {},
     "output_type": "execute_result"
    }
   ],
   "source": [
    "l"
   ]
  },
  {
   "cell_type": "code",
   "execution_count": 36,
   "id": "3d13824f",
   "metadata": {},
   "outputs": [
    {
     "data": {
      "text/plain": [
       "1"
      ]
     },
     "execution_count": 36,
     "metadata": {},
     "output_type": "execute_result"
    }
   ],
   "source": [
    "l.pop(0)"
   ]
  },
  {
   "cell_type": "code",
   "execution_count": 37,
   "id": "daa0dc78",
   "metadata": {},
   "outputs": [
    {
     "data": {
      "text/plain": [
       "[2, 3, 4, 5, 'sudh', 45.67, True, 'kumar', [1, 2, 3, 4]]"
      ]
     },
     "execution_count": 37,
     "metadata": {},
     "output_type": "execute_result"
    }
   ],
   "source": [
    "l"
   ]
  },
  {
   "cell_type": "code",
   "execution_count": 38,
   "id": "2efa41e7",
   "metadata": {},
   "outputs": [
    {
     "data": {
      "text/plain": [
       "[1, 2, 3, 4]"
      ]
     },
     "execution_count": 38,
     "metadata": {},
     "output_type": "execute_result"
    }
   ],
   "source": [
    "l.pop()"
   ]
  },
  {
   "cell_type": "code",
   "execution_count": 39,
   "id": "cb05ea79",
   "metadata": {},
   "outputs": [
    {
     "data": {
      "text/plain": [
       "[2, 3, 4, 5, 'sudh', 45.67, True, 'kumar']"
      ]
     },
     "execution_count": 39,
     "metadata": {},
     "output_type": "execute_result"
    }
   ],
   "source": [
    "l"
   ]
  },
  {
   "cell_type": "code",
   "execution_count": 40,
   "id": "f497ab85",
   "metadata": {},
   "outputs": [],
   "source": [
    "l.reverse()"
   ]
  },
  {
   "cell_type": "code",
   "execution_count": 41,
   "id": "c1955c6b",
   "metadata": {},
   "outputs": [
    {
     "data": {
      "text/plain": [
       "['kumar', True, 45.67, 'sudh', 5, 4, 3, 2]"
      ]
     },
     "execution_count": 41,
     "metadata": {},
     "output_type": "execute_result"
    }
   ],
   "source": [
    "l"
   ]
  },
  {
   "cell_type": "code",
   "execution_count": 42,
   "id": "d6fabe97",
   "metadata": {},
   "outputs": [
    {
     "data": {
      "text/plain": [
       "[2, 3, 4, 5, 'sudh', 45.67, True, 'kumar']"
      ]
     },
     "execution_count": 42,
     "metadata": {},
     "output_type": "execute_result"
    }
   ],
   "source": [
    "l[::-1]"
   ]
  },
  {
   "cell_type": "code",
   "execution_count": 43,
   "id": "4ad6edf4",
   "metadata": {},
   "outputs": [
    {
     "data": {
      "text/plain": [
       "['kumar', True, 45.67, 'sudh', 5, 4, 3, 2]"
      ]
     },
     "execution_count": 43,
     "metadata": {},
     "output_type": "execute_result"
    }
   ],
   "source": [
    "l"
   ]
  },
  {
   "cell_type": "code",
   "execution_count": 44,
   "id": "004042c5",
   "metadata": {},
   "outputs": [],
   "source": [
    "l = l[::-1]"
   ]
  },
  {
   "cell_type": "code",
   "execution_count": 45,
   "id": "b14815e2",
   "metadata": {},
   "outputs": [],
   "source": [
    "l.append(7)"
   ]
  },
  {
   "cell_type": "code",
   "execution_count": 46,
   "id": "90fc1e67",
   "metadata": {},
   "outputs": [
    {
     "data": {
      "text/plain": [
       "[2, 3, 4, 5, 'sudh', 45.67, True, 'kumar', 7]"
      ]
     },
     "execution_count": 46,
     "metadata": {},
     "output_type": "execute_result"
    }
   ],
   "source": [
    "l"
   ]
  },
  {
   "cell_type": "code",
   "execution_count": 47,
   "id": "bf6a273c",
   "metadata": {},
   "outputs": [
    {
     "ename": "TypeError",
     "evalue": "list.append() takes exactly one argument (2 given)",
     "output_type": "error",
     "traceback": [
      "\u001b[1;31m---------------------------------------------------------------------------\u001b[0m",
      "\u001b[1;31mTypeError\u001b[0m                                 Traceback (most recent call last)",
      "\u001b[1;32m~\\AppData\\Local\\Temp\\4/ipykernel_15824/2765654755.py\u001b[0m in \u001b[0;36m<module>\u001b[1;34m\u001b[0m\n\u001b[1;32m----> 1\u001b[1;33m \u001b[0ml\u001b[0m\u001b[1;33m.\u001b[0m\u001b[0mappend\u001b[0m\u001b[1;33m(\u001b[0m\u001b[1;36m7\u001b[0m\u001b[1;33m,\u001b[0m\u001b[1;36m8\u001b[0m\u001b[1;33m)\u001b[0m\u001b[1;33m\u001b[0m\u001b[1;33m\u001b[0m\u001b[0m\n\u001b[0m",
      "\u001b[1;31mTypeError\u001b[0m: list.append() takes exactly one argument (2 given)"
     ]
    }
   ],
   "source": [
    "l.append(7,8)"
   ]
  },
  {
   "cell_type": "code",
   "execution_count": 48,
   "id": "f3382854",
   "metadata": {},
   "outputs": [],
   "source": [
    "l.append([7,8])"
   ]
  },
  {
   "cell_type": "code",
   "execution_count": 49,
   "id": "34b9fb8d",
   "metadata": {},
   "outputs": [
    {
     "data": {
      "text/plain": [
       "[2, 3, 4, 5, 'sudh', 45.67, True, 'kumar', 7, [7, 8]]"
      ]
     },
     "execution_count": 49,
     "metadata": {},
     "output_type": "execute_result"
    }
   ],
   "source": [
    "l"
   ]
  },
  {
   "cell_type": "code",
   "execution_count": 50,
   "id": "3a3f90a8",
   "metadata": {},
   "outputs": [
    {
     "data": {
      "text/plain": [
       "[3, 4, 5, 6, 6]"
      ]
     },
     "execution_count": 50,
     "metadata": {},
     "output_type": "execute_result"
    }
   ],
   "source": [
    "l1"
   ]
  },
  {
   "cell_type": "code",
   "execution_count": 51,
   "id": "76052dbb",
   "metadata": {},
   "outputs": [],
   "source": [
    "l1.sort()"
   ]
  },
  {
   "cell_type": "code",
   "execution_count": 52,
   "id": "9f60a0e3",
   "metadata": {},
   "outputs": [
    {
     "data": {
      "text/plain": [
       "[3, 4, 5, 6, 6]"
      ]
     },
     "execution_count": 52,
     "metadata": {},
     "output_type": "execute_result"
    }
   ],
   "source": [
    "l1"
   ]
  },
  {
   "cell_type": "code",
   "execution_count": 53,
   "id": "fdc51373",
   "metadata": {},
   "outputs": [],
   "source": [
    "l3 = [8,98,34,23,1,10.7]"
   ]
  },
  {
   "cell_type": "code",
   "execution_count": 54,
   "id": "a4f3c953",
   "metadata": {},
   "outputs": [],
   "source": [
    "l3.sort()"
   ]
  },
  {
   "cell_type": "code",
   "execution_count": 55,
   "id": "61d87391",
   "metadata": {},
   "outputs": [
    {
     "data": {
      "text/plain": [
       "[1, 8, 10.7, 23, 34, 98]"
      ]
     },
     "execution_count": 55,
     "metadata": {},
     "output_type": "execute_result"
    }
   ],
   "source": [
    "l3"
   ]
  },
  {
   "cell_type": "code",
   "execution_count": 56,
   "id": "fc142817",
   "metadata": {},
   "outputs": [],
   "source": [
    "l3.sort(reverse = True)"
   ]
  },
  {
   "cell_type": "code",
   "execution_count": 57,
   "id": "49c4c890",
   "metadata": {},
   "outputs": [
    {
     "data": {
      "text/plain": [
       "[98, 34, 23, 10.7, 8, 1]"
      ]
     },
     "execution_count": 57,
     "metadata": {},
     "output_type": "execute_result"
    }
   ],
   "source": [
    "l3"
   ]
  },
  {
   "cell_type": "code",
   "execution_count": 58,
   "id": "e6d853c1",
   "metadata": {},
   "outputs": [],
   "source": [
    "l1 = [2,3,4]\n",
    "l2 = [6,7,8]\n",
    "l3 = [3,2,4]"
   ]
  },
  {
   "cell_type": "code",
   "execution_count": 59,
   "id": "7a604678",
   "metadata": {},
   "outputs": [],
   "source": [
    "l4 = [l1,l2,l3]"
   ]
  },
  {
   "cell_type": "code",
   "execution_count": 60,
   "id": "0f2692b9",
   "metadata": {},
   "outputs": [
    {
     "data": {
      "text/plain": [
       "[[2, 3, 4], [6, 7, 8], [3, 2, 4]]"
      ]
     },
     "execution_count": 60,
     "metadata": {},
     "output_type": "execute_result"
    }
   ],
   "source": [
    "l4"
   ]
  },
  {
   "cell_type": "code",
   "execution_count": 63,
   "id": "3290a3e8",
   "metadata": {},
   "outputs": [
    {
     "name": "stderr",
     "output_type": "stream",
     "text": [
      "<>:1: SyntaxWarning: 'int' object is not subscriptable; perhaps you missed a comma?\n",
      "<>:1: SyntaxWarning: 'int' object is not subscriptable; perhaps you missed a comma?\n",
      "C:\\Users\\875305\\AppData\\Local\\Temp\\4/ipykernel_15824/2902306294.py:1: SyntaxWarning: 'int' object is not subscriptable; perhaps you missed a comma?\n",
      "  l4[2[1]]\n"
     ]
    },
    {
     "ename": "TypeError",
     "evalue": "'int' object is not subscriptable",
     "output_type": "error",
     "traceback": [
      "\u001b[1;31m---------------------------------------------------------------------------\u001b[0m",
      "\u001b[1;31mTypeError\u001b[0m                                 Traceback (most recent call last)",
      "\u001b[1;32m~\\AppData\\Local\\Temp\\4/ipykernel_15824/2902306294.py\u001b[0m in \u001b[0;36m<module>\u001b[1;34m\u001b[0m\n\u001b[1;32m----> 1\u001b[1;33m \u001b[0ml4\u001b[0m\u001b[1;33m[\u001b[0m\u001b[1;36m2\u001b[0m\u001b[1;33m[\u001b[0m\u001b[1;36m1\u001b[0m\u001b[1;33m]\u001b[0m\u001b[1;33m]\u001b[0m\u001b[1;33m\u001b[0m\u001b[1;33m\u001b[0m\u001b[0m\n\u001b[0m",
      "\u001b[1;31mTypeError\u001b[0m: 'int' object is not subscriptable"
     ]
    }
   ],
   "source": [
    "l4[2[1]]"
   ]
  },
  {
   "cell_type": "code",
   "execution_count": 64,
   "id": "3c1f72fc",
   "metadata": {},
   "outputs": [
    {
     "data": {
      "text/plain": [
       "2"
      ]
     },
     "execution_count": 64,
     "metadata": {},
     "output_type": "execute_result"
    }
   ],
   "source": [
    "l4[2][1]"
   ]
  },
  {
   "cell_type": "code",
   "execution_count": 65,
   "id": "29609df9",
   "metadata": {},
   "outputs": [
    {
     "data": {
      "text/plain": [
       "[2, 3, 4, 5, 'sudh', 45.67, True, 'kumar', 7, [7, 8]]"
      ]
     },
     "execution_count": 65,
     "metadata": {},
     "output_type": "execute_result"
    }
   ],
   "source": [
    "l"
   ]
  },
  {
   "cell_type": "code",
   "execution_count": 66,
   "id": "49bd2f30",
   "metadata": {},
   "outputs": [
    {
     "data": {
      "text/plain": [
       "1"
      ]
     },
     "execution_count": 66,
     "metadata": {},
     "output_type": "execute_result"
    }
   ],
   "source": [
    "l.count(2)"
   ]
  },
  {
   "cell_type": "code",
   "execution_count": 67,
   "id": "faa9ae52",
   "metadata": {},
   "outputs": [],
   "source": [
    "l5 = [3,4,5,3,3]"
   ]
  },
  {
   "cell_type": "code",
   "execution_count": 69,
   "id": "b0b8a5b4",
   "metadata": {},
   "outputs": [
    {
     "data": {
      "text/plain": [
       "3"
      ]
     },
     "execution_count": 69,
     "metadata": {},
     "output_type": "execute_result"
    }
   ],
   "source": [
    "l5.count(3)"
   ]
  },
  {
   "cell_type": "code",
   "execution_count": 70,
   "id": "c94f883d",
   "metadata": {},
   "outputs": [
    {
     "data": {
      "text/plain": [
       "[2, 3, 4, 5, 'sudh', 45.67, True, 'kumar', 7, [7, 8]]"
      ]
     },
     "execution_count": 70,
     "metadata": {},
     "output_type": "execute_result"
    }
   ],
   "source": [
    "l"
   ]
  },
  {
   "cell_type": "code",
   "execution_count": 71,
   "id": "ca3c50a0",
   "metadata": {},
   "outputs": [],
   "source": [
    "l.append(\"INeuron\")"
   ]
  },
  {
   "cell_type": "code",
   "execution_count": 72,
   "id": "afc22157",
   "metadata": {},
   "outputs": [
    {
     "data": {
      "text/plain": [
       "[2, 3, 4, 5, 'sudh', 45.67, True, 'kumar', 7, [7, 8], 'INeuron']"
      ]
     },
     "execution_count": 72,
     "metadata": {},
     "output_type": "execute_result"
    }
   ],
   "source": [
    "l"
   ]
  },
  {
   "cell_type": "code",
   "execution_count": 73,
   "id": "ae678291",
   "metadata": {},
   "outputs": [],
   "source": [
    "l.append([4,56,\"sudh\"])"
   ]
  },
  {
   "cell_type": "code",
   "execution_count": 74,
   "id": "a5140c1b",
   "metadata": {},
   "outputs": [
    {
     "data": {
      "text/plain": [
       "[2,\n",
       " 3,\n",
       " 4,\n",
       " 5,\n",
       " 'sudh',\n",
       " 45.67,\n",
       " True,\n",
       " 'kumar',\n",
       " 7,\n",
       " [7, 8],\n",
       " 'INeuron',\n",
       " [4, 56, 'sudh']]"
      ]
     },
     "execution_count": 74,
     "metadata": {},
     "output_type": "execute_result"
    }
   ],
   "source": [
    "l"
   ]
  },
  {
   "cell_type": "code",
   "execution_count": 75,
   "id": "22ec6c17",
   "metadata": {},
   "outputs": [],
   "source": [
    "l.extend(\"sudh\")"
   ]
  },
  {
   "cell_type": "code",
   "execution_count": 76,
   "id": "cd3ceb2a",
   "metadata": {},
   "outputs": [
    {
     "data": {
      "text/plain": [
       "[2,\n",
       " 3,\n",
       " 4,\n",
       " 5,\n",
       " 'sudh',\n",
       " 45.67,\n",
       " True,\n",
       " 'kumar',\n",
       " 7,\n",
       " [7, 8],\n",
       " 'INeuron',\n",
       " [4, 56, 'sudh'],\n",
       " 's',\n",
       " 'u',\n",
       " 'd',\n",
       " 'h']"
      ]
     },
     "execution_count": 76,
     "metadata": {},
     "output_type": "execute_result"
    }
   ],
   "source": [
    "l"
   ]
  },
  {
   "cell_type": "code",
   "execution_count": 77,
   "id": "b35d3dc9",
   "metadata": {},
   "outputs": [],
   "source": [
    "l6 = [1,2,3]"
   ]
  },
  {
   "cell_type": "code",
   "execution_count": 78,
   "id": "b66aa2e0",
   "metadata": {},
   "outputs": [],
   "source": [
    "l6.append([4,5,6])"
   ]
  },
  {
   "cell_type": "code",
   "execution_count": 79,
   "id": "bf82b611",
   "metadata": {},
   "outputs": [
    {
     "data": {
      "text/plain": [
       "[1, 2, 3, [4, 5, 6]]"
      ]
     },
     "execution_count": 79,
     "metadata": {},
     "output_type": "execute_result"
    }
   ],
   "source": [
    "l6"
   ]
  },
  {
   "cell_type": "code",
   "execution_count": 80,
   "id": "86abc82f",
   "metadata": {},
   "outputs": [],
   "source": [
    "l6.append(\"sudh\")"
   ]
  },
  {
   "cell_type": "code",
   "execution_count": 81,
   "id": "c7732a89",
   "metadata": {},
   "outputs": [
    {
     "data": {
      "text/plain": [
       "[1, 2, 3, [4, 5, 6], 'sudh']"
      ]
     },
     "execution_count": 81,
     "metadata": {},
     "output_type": "execute_result"
    }
   ],
   "source": [
    "l6"
   ]
  },
  {
   "cell_type": "code",
   "execution_count": 82,
   "id": "f9c160fa",
   "metadata": {},
   "outputs": [
    {
     "ename": "TypeError",
     "evalue": "'int' object is not iterable",
     "output_type": "error",
     "traceback": [
      "\u001b[1;31m---------------------------------------------------------------------------\u001b[0m",
      "\u001b[1;31mTypeError\u001b[0m                                 Traceback (most recent call last)",
      "\u001b[1;32m~\\AppData\\Local\\Temp\\4/ipykernel_15824/3761217359.py\u001b[0m in \u001b[0;36m<module>\u001b[1;34m\u001b[0m\n\u001b[1;32m----> 1\u001b[1;33m \u001b[0ml6\u001b[0m\u001b[1;33m.\u001b[0m\u001b[0mextend\u001b[0m\u001b[1;33m(\u001b[0m\u001b[1;36m45\u001b[0m\u001b[1;33m)\u001b[0m\u001b[1;33m\u001b[0m\u001b[1;33m\u001b[0m\u001b[0m\n\u001b[0m",
      "\u001b[1;31mTypeError\u001b[0m: 'int' object is not iterable"
     ]
    }
   ],
   "source": [
    "l6.extend(45)"
   ]
  },
  {
   "cell_type": "code",
   "execution_count": 85,
   "id": "256a63a2",
   "metadata": {},
   "outputs": [],
   "source": [
    "l6.append(45)"
   ]
  },
  {
   "cell_type": "code",
   "execution_count": 86,
   "id": "3833a385",
   "metadata": {},
   "outputs": [
    {
     "data": {
      "text/plain": [
       "[1, 2, 3, [4, 5, 6], 'sudh', 45]"
      ]
     },
     "execution_count": 86,
     "metadata": {},
     "output_type": "execute_result"
    }
   ],
   "source": [
    "l6"
   ]
  },
  {
   "cell_type": "code",
   "execution_count": 87,
   "id": "094920f5",
   "metadata": {},
   "outputs": [],
   "source": [
    "l6.extend([56,34,21])"
   ]
  },
  {
   "cell_type": "code",
   "execution_count": 88,
   "id": "84632b11",
   "metadata": {},
   "outputs": [
    {
     "data": {
      "text/plain": [
       "[1, 2, 3, [4, 5, 6], 'sudh', 45, 56, 34, 21]"
      ]
     },
     "execution_count": 88,
     "metadata": {},
     "output_type": "execute_result"
    }
   ],
   "source": [
    "l6"
   ]
  },
  {
   "cell_type": "code",
   "execution_count": 89,
   "id": "84ab76a7",
   "metadata": {},
   "outputs": [],
   "source": [
    "l6.extend(\"rahul\")"
   ]
  },
  {
   "cell_type": "code",
   "execution_count": 90,
   "id": "b7b8d633",
   "metadata": {},
   "outputs": [
    {
     "data": {
      "text/plain": [
       "[1, 2, 3, [4, 5, 6], 'sudh', 45, 56, 34, 21, 'r', 'a', 'h', 'u', 'l']"
      ]
     },
     "execution_count": 90,
     "metadata": {},
     "output_type": "execute_result"
    }
   ],
   "source": [
    "l6"
   ]
  },
  {
   "cell_type": "code",
   "execution_count": 91,
   "id": "e3695ba8",
   "metadata": {},
   "outputs": [
    {
     "data": {
      "text/plain": [
       "0"
      ]
     },
     "execution_count": 91,
     "metadata": {},
     "output_type": "execute_result"
    }
   ],
   "source": [
    "l6.index(1)"
   ]
  },
  {
   "cell_type": "code",
   "execution_count": 95,
   "id": "0122213a",
   "metadata": {},
   "outputs": [],
   "source": [
    "l7 = [1,2,3,4,6,5,6,7]"
   ]
  },
  {
   "cell_type": "code",
   "execution_count": 96,
   "id": "8360210c",
   "metadata": {},
   "outputs": [
    {
     "ename": "TypeError",
     "evalue": "index expected at least 1 argument, got 0",
     "output_type": "error",
     "traceback": [
      "\u001b[1;31m---------------------------------------------------------------------------\u001b[0m",
      "\u001b[1;31mTypeError\u001b[0m                                 Traceback (most recent call last)",
      "\u001b[1;32m~\\AppData\\Local\\Temp\\4/ipykernel_15824/3812992936.py\u001b[0m in \u001b[0;36m<module>\u001b[1;34m\u001b[0m\n\u001b[1;32m----> 1\u001b[1;33m \u001b[0ml7\u001b[0m\u001b[1;33m.\u001b[0m\u001b[0mindex\u001b[0m\u001b[1;33m(\u001b[0m\u001b[1;33m)\u001b[0m\u001b[1;33m\u001b[0m\u001b[1;33m\u001b[0m\u001b[0m\n\u001b[0m",
      "\u001b[1;31mTypeError\u001b[0m: index expected at least 1 argument, got 0"
     ]
    }
   ],
   "source": [
    "l7.index()"
   ]
  },
  {
   "cell_type": "code",
   "execution_count": 97,
   "id": "0e8f0a2f",
   "metadata": {},
   "outputs": [
    {
     "data": {
      "text/plain": [
       "4"
      ]
     },
     "execution_count": 97,
     "metadata": {},
     "output_type": "execute_result"
    }
   ],
   "source": [
    "l7.index(6)"
   ]
  },
  {
   "cell_type": "code",
   "execution_count": 98,
   "id": "b33d77e3",
   "metadata": {},
   "outputs": [],
   "source": [
    "l = [1,2,3,4,5]"
   ]
  },
  {
   "cell_type": "code",
   "execution_count": 99,
   "id": "23c3d7e3",
   "metadata": {},
   "outputs": [],
   "source": [
    "l.append(45)"
   ]
  },
  {
   "cell_type": "code",
   "execution_count": 100,
   "id": "990b1b86",
   "metadata": {},
   "outputs": [
    {
     "data": {
      "text/plain": [
       "[1, 2, 3, 4, 5, 45]"
      ]
     },
     "execution_count": 100,
     "metadata": {},
     "output_type": "execute_result"
    }
   ],
   "source": [
    "l"
   ]
  },
  {
   "cell_type": "code",
   "execution_count": 101,
   "id": "b2c78950",
   "metadata": {},
   "outputs": [],
   "source": [
    "l.insert(1,50)"
   ]
  },
  {
   "cell_type": "code",
   "execution_count": 102,
   "id": "55be6b70",
   "metadata": {},
   "outputs": [
    {
     "data": {
      "text/plain": [
       "[1, 50, 2, 3, 4, 5, 45]"
      ]
     },
     "execution_count": 102,
     "metadata": {},
     "output_type": "execute_result"
    }
   ],
   "source": [
    "l"
   ]
  },
  {
   "cell_type": "code",
   "execution_count": 103,
   "id": "da926e4b",
   "metadata": {},
   "outputs": [],
   "source": [
    "l.insert(5,\"sudh\")"
   ]
  },
  {
   "cell_type": "code",
   "execution_count": 104,
   "id": "6e0bd71a",
   "metadata": {},
   "outputs": [
    {
     "data": {
      "text/plain": [
       "[1, 50, 2, 3, 4, 'sudh', 5, 45]"
      ]
     },
     "execution_count": 104,
     "metadata": {},
     "output_type": "execute_result"
    }
   ],
   "source": [
    "l"
   ]
  },
  {
   "cell_type": "code",
   "execution_count": 105,
   "id": "67b1eb51",
   "metadata": {},
   "outputs": [
    {
     "data": {
      "text/plain": [
       "45"
      ]
     },
     "execution_count": 105,
     "metadata": {},
     "output_type": "execute_result"
    }
   ],
   "source": [
    "l.pop()"
   ]
  },
  {
   "cell_type": "code",
   "execution_count": 106,
   "id": "1e01e00a",
   "metadata": {},
   "outputs": [
    {
     "data": {
      "text/plain": [
       "2"
      ]
     },
     "execution_count": 106,
     "metadata": {},
     "output_type": "execute_result"
    }
   ],
   "source": [
    "l.pop(2)"
   ]
  },
  {
   "cell_type": "code",
   "execution_count": 107,
   "id": "a81e5916",
   "metadata": {},
   "outputs": [
    {
     "ename": "ValueError",
     "evalue": "list.remove(x): x not in list",
     "output_type": "error",
     "traceback": [
      "\u001b[1;31m---------------------------------------------------------------------------\u001b[0m",
      "\u001b[1;31mValueError\u001b[0m                                Traceback (most recent call last)",
      "\u001b[1;32m~\\AppData\\Local\\Temp\\4/ipykernel_15824/3211007361.py\u001b[0m in \u001b[0;36m<module>\u001b[1;34m\u001b[0m\n\u001b[1;32m----> 1\u001b[1;33m \u001b[0ml\u001b[0m\u001b[1;33m.\u001b[0m\u001b[0mremove\u001b[0m\u001b[1;33m(\u001b[0m\u001b[1;36m200\u001b[0m\u001b[1;33m)\u001b[0m\u001b[1;33m\u001b[0m\u001b[1;33m\u001b[0m\u001b[0m\n\u001b[0m",
      "\u001b[1;31mValueError\u001b[0m: list.remove(x): x not in list"
     ]
    }
   ],
   "source": [
    "l.remove(200)"
   ]
  },
  {
   "cell_type": "code",
   "execution_count": 108,
   "id": "aaffdb07",
   "metadata": {},
   "outputs": [
    {
     "ename": "TypeError",
     "evalue": "list.remove() takes exactly one argument (0 given)",
     "output_type": "error",
     "traceback": [
      "\u001b[1;31m---------------------------------------------------------------------------\u001b[0m",
      "\u001b[1;31mTypeError\u001b[0m                                 Traceback (most recent call last)",
      "\u001b[1;32m~\\AppData\\Local\\Temp\\4/ipykernel_15824/3424734769.py\u001b[0m in \u001b[0;36m<module>\u001b[1;34m\u001b[0m\n\u001b[1;32m----> 1\u001b[1;33m \u001b[0ml\u001b[0m\u001b[1;33m.\u001b[0m\u001b[0mremove\u001b[0m\u001b[1;33m(\u001b[0m\u001b[1;33m)\u001b[0m\u001b[1;33m\u001b[0m\u001b[1;33m\u001b[0m\u001b[0m\n\u001b[0m",
      "\u001b[1;31mTypeError\u001b[0m: list.remove() takes exactly one argument (0 given)"
     ]
    }
   ],
   "source": [
    "l.remove()"
   ]
  },
  {
   "cell_type": "code",
   "execution_count": 109,
   "id": "62f04313",
   "metadata": {},
   "outputs": [],
   "source": [
    "l.remove(4)"
   ]
  },
  {
   "cell_type": "code",
   "execution_count": 110,
   "id": "0325bc73",
   "metadata": {},
   "outputs": [
    {
     "data": {
      "text/plain": [
       "[1, 50, 3, 'sudh', 5]"
      ]
     },
     "execution_count": 110,
     "metadata": {},
     "output_type": "execute_result"
    }
   ],
   "source": [
    "l"
   ]
  },
  {
   "cell_type": "code",
   "execution_count": 111,
   "id": "b5e50d9c",
   "metadata": {},
   "outputs": [],
   "source": [
    "l.remove(3)"
   ]
  },
  {
   "cell_type": "code",
   "execution_count": 112,
   "id": "83bbf730",
   "metadata": {},
   "outputs": [
    {
     "data": {
      "text/plain": [
       "[1, 50, 'sudh', 5]"
      ]
     },
     "execution_count": 112,
     "metadata": {},
     "output_type": "execute_result"
    }
   ],
   "source": [
    "l"
   ]
  },
  {
   "cell_type": "code",
   "execution_count": 113,
   "id": "30f49922",
   "metadata": {},
   "outputs": [],
   "source": [
    "s  = \"rahul\""
   ]
  },
  {
   "cell_type": "code",
   "execution_count": 116,
   "id": "1e766875",
   "metadata": {},
   "outputs": [
    {
     "ename": "AttributeError",
     "evalue": "'str' object has no attribute 'remove'",
     "output_type": "error",
     "traceback": [
      "\u001b[1;31m---------------------------------------------------------------------------\u001b[0m",
      "\u001b[1;31mAttributeError\u001b[0m                            Traceback (most recent call last)",
      "\u001b[1;32m~\\AppData\\Local\\Temp\\4/ipykernel_15824/4219573265.py\u001b[0m in \u001b[0;36m<module>\u001b[1;34m\u001b[0m\n\u001b[1;32m----> 1\u001b[1;33m \u001b[0ms\u001b[0m\u001b[1;33m.\u001b[0m\u001b[0mremove\u001b[0m\u001b[1;33m(\u001b[0m\u001b[0mh\u001b[0m\u001b[1;33m)\u001b[0m\u001b[1;33m\u001b[0m\u001b[1;33m\u001b[0m\u001b[0m\n\u001b[0m",
      "\u001b[1;31mAttributeError\u001b[0m: 'str' object has no attribute 'remove'"
     ]
    }
   ],
   "source": [
    "s.remove(h)"
   ]
  },
  {
   "cell_type": "code",
   "execution_count": 117,
   "id": "ff3fe1f5",
   "metadata": {},
   "outputs": [],
   "source": [
    "l = [1,2,3,4]"
   ]
  },
  {
   "cell_type": "code",
   "execution_count": 118,
   "id": "608e9e4c",
   "metadata": {},
   "outputs": [
    {
     "data": {
      "text/plain": [
       "3"
      ]
     },
     "execution_count": 118,
     "metadata": {},
     "output_type": "execute_result"
    }
   ],
   "source": [
    "l[2]"
   ]
  },
  {
   "cell_type": "code",
   "execution_count": 119,
   "id": "afbed31e",
   "metadata": {},
   "outputs": [],
   "source": [
    "l[2] = \"sudh\""
   ]
  },
  {
   "cell_type": "code",
   "execution_count": 120,
   "id": "012ed55b",
   "metadata": {},
   "outputs": [
    {
     "data": {
      "text/plain": [
       "[1, 2, 'sudh', 4]"
      ]
     },
     "execution_count": 120,
     "metadata": {},
     "output_type": "execute_result"
    }
   ],
   "source": [
    "l"
   ]
  },
  {
   "cell_type": "code",
   "execution_count": 121,
   "id": "7d36d587",
   "metadata": {},
   "outputs": [],
   "source": [
    "s = \"iNeuron\""
   ]
  },
  {
   "cell_type": "code",
   "execution_count": 122,
   "id": "e571a5b8",
   "metadata": {},
   "outputs": [
    {
     "data": {
      "text/plain": [
       "'e'"
      ]
     },
     "execution_count": 122,
     "metadata": {},
     "output_type": "execute_result"
    }
   ],
   "source": [
    "s[2]"
   ]
  },
  {
   "cell_type": "code",
   "execution_count": 123,
   "id": "b70b3048",
   "metadata": {},
   "outputs": [
    {
     "ename": "TypeError",
     "evalue": "'str' object does not support item assignment",
     "output_type": "error",
     "traceback": [
      "\u001b[1;31m---------------------------------------------------------------------------\u001b[0m",
      "\u001b[1;31mTypeError\u001b[0m                                 Traceback (most recent call last)",
      "\u001b[1;32m~\\AppData\\Local\\Temp\\4/ipykernel_15824/1564234607.py\u001b[0m in \u001b[0;36m<module>\u001b[1;34m\u001b[0m\n\u001b[1;32m----> 1\u001b[1;33m \u001b[0ms\u001b[0m\u001b[1;33m[\u001b[0m\u001b[1;36m2\u001b[0m\u001b[1;33m]\u001b[0m \u001b[1;33m=\u001b[0m \u001b[1;34m\"z\"\u001b[0m\u001b[1;33m\u001b[0m\u001b[1;33m\u001b[0m\u001b[0m\n\u001b[0m",
      "\u001b[1;31mTypeError\u001b[0m: 'str' object does not support item assignment"
     ]
    }
   ],
   "source": [
    "s[2] = \"z\""
   ]
  },
  {
   "cell_type": "code",
   "execution_count": 1,
   "id": "ee270c5c",
   "metadata": {},
   "outputs": [],
   "source": [
    "t = (4,5,6,7,\"sudh\",45.67,True)"
   ]
  },
  {
   "cell_type": "code",
   "execution_count": 2,
   "id": "f61bceac",
   "metadata": {},
   "outputs": [
    {
     "data": {
      "text/plain": [
       "tuple"
      ]
     },
     "execution_count": 2,
     "metadata": {},
     "output_type": "execute_result"
    }
   ],
   "source": [
    "type(t)"
   ]
  },
  {
   "cell_type": "code",
   "execution_count": 5,
   "id": "916fc1cf",
   "metadata": {},
   "outputs": [
    {
     "data": {
      "text/plain": [
       "4"
      ]
     },
     "execution_count": 5,
     "metadata": {},
     "output_type": "execute_result"
    }
   ],
   "source": [
    "t[0]"
   ]
  },
  {
   "cell_type": "code",
   "execution_count": 6,
   "id": "b4f9e487",
   "metadata": {},
   "outputs": [
    {
     "data": {
      "text/plain": [
       "(4, 5, 6, 7)"
      ]
     },
     "execution_count": 6,
     "metadata": {},
     "output_type": "execute_result"
    }
   ],
   "source": [
    "t[0:4]"
   ]
  },
  {
   "cell_type": "code",
   "execution_count": 7,
   "id": "b1b88016",
   "metadata": {},
   "outputs": [
    {
     "data": {
      "text/plain": [
       "True"
      ]
     },
     "execution_count": 7,
     "metadata": {},
     "output_type": "execute_result"
    }
   ],
   "source": [
    "t[-1]"
   ]
  },
  {
   "cell_type": "code",
   "execution_count": 8,
   "id": "4a79715d",
   "metadata": {},
   "outputs": [
    {
     "data": {
      "text/plain": [
       "(4, 5, 6, 7, 'sudh', 45.67, True)"
      ]
     },
     "execution_count": 8,
     "metadata": {},
     "output_type": "execute_result"
    }
   ],
   "source": [
    "t"
   ]
  },
  {
   "cell_type": "code",
   "execution_count": 9,
   "id": "a54d1d0e",
   "metadata": {},
   "outputs": [
    {
     "data": {
      "text/plain": [
       "(4, 6, 'sudh')"
      ]
     },
     "execution_count": 9,
     "metadata": {},
     "output_type": "execute_result"
    }
   ],
   "source": [
    "t[0:6:2]"
   ]
  },
  {
   "cell_type": "code",
   "execution_count": 10,
   "id": "46635939",
   "metadata": {},
   "outputs": [
    {
     "data": {
      "text/plain": [
       "()"
      ]
     },
     "execution_count": 10,
     "metadata": {},
     "output_type": "execute_result"
    }
   ],
   "source": [
    "t[0:4:-1]"
   ]
  },
  {
   "cell_type": "code",
   "execution_count": 11,
   "id": "4c328b26",
   "metadata": {},
   "outputs": [],
   "source": [
    "l = [1,2,3,456,78]"
   ]
  },
  {
   "cell_type": "code",
   "execution_count": 12,
   "id": "cdcd4047",
   "metadata": {},
   "outputs": [],
   "source": [
    "l[2] = \"rahul\""
   ]
  },
  {
   "cell_type": "code",
   "execution_count": 13,
   "id": "a0b9a360",
   "metadata": {},
   "outputs": [
    {
     "data": {
      "text/plain": [
       "[1, 2, 'rahul', 456, 78]"
      ]
     },
     "execution_count": 13,
     "metadata": {},
     "output_type": "execute_result"
    }
   ],
   "source": [
    "l"
   ]
  },
  {
   "cell_type": "code",
   "execution_count": 14,
   "id": "0fb982e4",
   "metadata": {},
   "outputs": [
    {
     "data": {
      "text/plain": [
       "(4, 5, 6, 7, 'sudh', 45.67, True)"
      ]
     },
     "execution_count": 14,
     "metadata": {},
     "output_type": "execute_result"
    }
   ],
   "source": [
    "t"
   ]
  },
  {
   "cell_type": "code",
   "execution_count": 15,
   "id": "02bc2c03",
   "metadata": {},
   "outputs": [
    {
     "data": {
      "text/plain": [
       "6"
      ]
     },
     "execution_count": 15,
     "metadata": {},
     "output_type": "execute_result"
    }
   ],
   "source": [
    "t[2]"
   ]
  },
  {
   "cell_type": "code",
   "execution_count": 16,
   "id": "fdaf319f",
   "metadata": {},
   "outputs": [
    {
     "ename": "TypeError",
     "evalue": "'tuple' object does not support item assignment",
     "output_type": "error",
     "traceback": [
      "\u001b[1;31m---------------------------------------------------------------------------\u001b[0m",
      "\u001b[1;31mTypeError\u001b[0m                                 Traceback (most recent call last)",
      "\u001b[1;32m~\\AppData\\Local\\Temp\\1/ipykernel_19008/3826589256.py\u001b[0m in \u001b[0;36m<module>\u001b[1;34m\u001b[0m\n\u001b[1;32m----> 1\u001b[1;33m \u001b[0mt\u001b[0m\u001b[1;33m[\u001b[0m\u001b[1;36m2\u001b[0m\u001b[1;33m]\u001b[0m \u001b[1;33m=\u001b[0m \u001b[1;34m\"rahul\"\u001b[0m\u001b[1;33m\u001b[0m\u001b[1;33m\u001b[0m\u001b[0m\n\u001b[0m",
      "\u001b[1;31mTypeError\u001b[0m: 'tuple' object does not support item assignment"
     ]
    }
   ],
   "source": [
    "t[2] = \"rahul\""
   ]
  },
  {
   "cell_type": "code",
   "execution_count": 17,
   "id": "99bd5eaf",
   "metadata": {},
   "outputs": [],
   "source": [
    "t1 = (3,4,5,6)"
   ]
  },
  {
   "cell_type": "code",
   "execution_count": 18,
   "id": "5bcf52c4",
   "metadata": {},
   "outputs": [
    {
     "data": {
      "text/plain": [
       "(4, 5, 6, 7, 'sudh', 45.67, True)"
      ]
     },
     "execution_count": 18,
     "metadata": {},
     "output_type": "execute_result"
    }
   ],
   "source": [
    "t"
   ]
  },
  {
   "cell_type": "code",
   "execution_count": 19,
   "id": "468c5afe",
   "metadata": {},
   "outputs": [
    {
     "data": {
      "text/plain": [
       "(4, 5, 6, 7, 'sudh', 45.67, True, 3, 4, 5, 6)"
      ]
     },
     "execution_count": 19,
     "metadata": {},
     "output_type": "execute_result"
    }
   ],
   "source": [
    "t + t1"
   ]
  },
  {
   "cell_type": "code",
   "execution_count": 20,
   "id": "cf5405cb",
   "metadata": {},
   "outputs": [
    {
     "data": {
      "text/plain": [
       "1"
      ]
     },
     "execution_count": 20,
     "metadata": {},
     "output_type": "execute_result"
    }
   ],
   "source": [
    "t.count(4)"
   ]
  },
  {
   "cell_type": "code",
   "execution_count": 21,
   "id": "54661288",
   "metadata": {},
   "outputs": [
    {
     "data": {
      "text/plain": [
       "0"
      ]
     },
     "execution_count": 21,
     "metadata": {},
     "output_type": "execute_result"
    }
   ],
   "source": [
    "t.count(3)"
   ]
  },
  {
   "cell_type": "code",
   "execution_count": 23,
   "id": "3f9b7ec2",
   "metadata": {},
   "outputs": [
    {
     "data": {
      "text/plain": [
       "0"
      ]
     },
     "execution_count": 23,
     "metadata": {},
     "output_type": "execute_result"
    }
   ],
   "source": [
    "t.index(4)"
   ]
  },
  {
   "cell_type": "code",
   "execution_count": 24,
   "id": "45978315",
   "metadata": {},
   "outputs": [
    {
     "data": {
      "text/plain": [
       "6"
      ]
     },
     "execution_count": 24,
     "metadata": {},
     "output_type": "execute_result"
    }
   ],
   "source": [
    "t.index(True)"
   ]
  },
  {
   "cell_type": "code",
   "execution_count": 25,
   "id": "1b73bb6c",
   "metadata": {},
   "outputs": [],
   "source": [
    "t = (3,4,56,7,\"sudh\")"
   ]
  },
  {
   "cell_type": "code",
   "execution_count": 26,
   "id": "9bc0494c",
   "metadata": {},
   "outputs": [
    {
     "data": {
      "text/plain": [
       "[3, 4, 56, 7, 'sudh']"
      ]
     },
     "execution_count": 26,
     "metadata": {},
     "output_type": "execute_result"
    }
   ],
   "source": [
    "list(t)"
   ]
  },
  {
   "cell_type": "code",
   "execution_count": 27,
   "id": "a59a8dda",
   "metadata": {},
   "outputs": [],
   "source": [
    "t2 = list(t)"
   ]
  },
  {
   "cell_type": "code",
   "execution_count": 28,
   "id": "51d6a458",
   "metadata": {},
   "outputs": [
    {
     "data": {
      "text/plain": [
       "[3, 4, 56, 7, 'sudh']"
      ]
     },
     "execution_count": 28,
     "metadata": {},
     "output_type": "execute_result"
    }
   ],
   "source": [
    "t2"
   ]
  },
  {
   "cell_type": "code",
   "execution_count": 29,
   "id": "29d2c69e",
   "metadata": {},
   "outputs": [
    {
     "data": {
      "text/plain": [
       "(3, 4, 56, 7, 'sudh')"
      ]
     },
     "execution_count": 29,
     "metadata": {},
     "output_type": "execute_result"
    }
   ],
   "source": [
    "tuple(t2)"
   ]
  },
  {
   "cell_type": "code",
   "execution_count": 30,
   "id": "56ccc46b",
   "metadata": {},
   "outputs": [],
   "source": [
    "d = {}"
   ]
  },
  {
   "cell_type": "code",
   "execution_count": 31,
   "id": "5469ed16",
   "metadata": {},
   "outputs": [
    {
     "data": {
      "text/plain": [
       "dict"
      ]
     },
     "execution_count": 31,
     "metadata": {},
     "output_type": "execute_result"
    }
   ],
   "source": [
    "type(d)"
   ]
  },
  {
   "cell_type": "code",
   "execution_count": 32,
   "id": "853de5c3",
   "metadata": {},
   "outputs": [],
   "source": [
    "d1 = {1}"
   ]
  },
  {
   "cell_type": "code",
   "execution_count": 33,
   "id": "c315ce88",
   "metadata": {},
   "outputs": [
    {
     "data": {
      "text/plain": [
       "set"
      ]
     },
     "execution_count": 33,
     "metadata": {},
     "output_type": "execute_result"
    }
   ],
   "source": [
    "type(d1)"
   ]
  },
  {
   "cell_type": "code",
   "execution_count": 34,
   "id": "eb443b78",
   "metadata": {},
   "outputs": [],
   "source": [
    "d2 = {'key1' : \"value\" , 234 : \"xyx\" , \"name\" : \"Sudh\" , \"no\" : 34324345}"
   ]
  },
  {
   "cell_type": "code",
   "execution_count": 35,
   "id": "d93b6e5c",
   "metadata": {},
   "outputs": [
    {
     "data": {
      "text/plain": [
       "dict"
      ]
     },
     "execution_count": 35,
     "metadata": {},
     "output_type": "execute_result"
    }
   ],
   "source": [
    "type(d2)"
   ]
  },
  {
   "cell_type": "code",
   "execution_count": 36,
   "id": "6c876a60",
   "metadata": {},
   "outputs": [
    {
     "data": {
      "text/plain": [
       "'Sudh'"
      ]
     },
     "execution_count": 36,
     "metadata": {},
     "output_type": "execute_result"
    }
   ],
   "source": [
    "d2['name']"
   ]
  },
  {
   "cell_type": "code",
   "execution_count": 37,
   "id": "052fb4e4",
   "metadata": {},
   "outputs": [
    {
     "data": {
      "text/plain": [
       "34324345"
      ]
     },
     "execution_count": 37,
     "metadata": {},
     "output_type": "execute_result"
    }
   ],
   "source": [
    "d2['no']"
   ]
  },
  {
   "cell_type": "code",
   "execution_count": 38,
   "id": "156dc362",
   "metadata": {},
   "outputs": [],
   "source": [
    "d3 = {'name' : \"sudh\" , 'tech' : [\"python\" , \"ML\" , \"DL\" , \"NLP\" , \"CV\" , \"Big Data\" , \"Data Analytics\"]}"
   ]
  },
  {
   "cell_type": "code",
   "execution_count": 40,
   "id": "d7bfc8c1",
   "metadata": {},
   "outputs": [
    {
     "data": {
      "text/plain": [
       "['python', 'ML', 'DL', 'NLP', 'CV', 'Big Data', 'Data Analytics']"
      ]
     },
     "execution_count": 40,
     "metadata": {},
     "output_type": "execute_result"
    }
   ],
   "source": [
    "d3['tech']"
   ]
  },
  {
   "cell_type": "code",
   "execution_count": 41,
   "id": "db56c0a5",
   "metadata": {},
   "outputs": [
    {
     "data": {
      "text/plain": [
       "True"
      ]
     },
     "execution_count": 41,
     "metadata": {},
     "output_type": "execute_result"
    }
   ],
   "source": [
    "\"python\" in d3[\"tech\"]"
   ]
  },
  {
   "cell_type": "code",
   "execution_count": 44,
   "id": "51ceffb0",
   "metadata": {},
   "outputs": [],
   "source": [
    "d4 = {'name' : \"iNeuron\" , 'contact_info' : 34345 , \"name\" : \"sudh\"}  "
   ]
  },
  {
   "cell_type": "code",
   "execution_count": 45,
   "id": "2d4e77a2",
   "metadata": {},
   "outputs": [
    {
     "data": {
      "text/plain": [
       "{'name': 'sudh', 'contact_info': 34345}"
      ]
     },
     "execution_count": 45,
     "metadata": {},
     "output_type": "execute_result"
    }
   ],
   "source": [
    "d4"
   ]
  },
  {
   "cell_type": "code",
   "execution_count": 46,
   "id": "e11de0ba",
   "metadata": {},
   "outputs": [],
   "source": [
    "d4[\"k1\"] = \"xyz\""
   ]
  },
  {
   "cell_type": "code",
   "execution_count": 47,
   "id": "a1a370a1",
   "metadata": {},
   "outputs": [
    {
     "data": {
      "text/plain": [
       "{'name': 'sudh', 'contact_info': 34345, 'k1': 'xyz'}"
      ]
     },
     "execution_count": 47,
     "metadata": {},
     "output_type": "execute_result"
    }
   ],
   "source": [
    "d4"
   ]
  },
  {
   "cell_type": "code",
   "execution_count": 48,
   "id": "526f462a",
   "metadata": {},
   "outputs": [],
   "source": [
    "d4[\"name\"] = \"xyz\""
   ]
  },
  {
   "cell_type": "code",
   "execution_count": 49,
   "id": "5ebeb50c",
   "metadata": {},
   "outputs": [
    {
     "data": {
      "text/plain": [
       "{'name': 'xyz', 'contact_info': 34345, 'k1': 'xyz'}"
      ]
     },
     "execution_count": 49,
     "metadata": {},
     "output_type": "execute_result"
    }
   ],
   "source": [
    "d4"
   ]
  },
  {
   "cell_type": "code",
   "execution_count": 50,
   "id": "8bd32f0e",
   "metadata": {},
   "outputs": [],
   "source": [
    "d4[\"name1\"] = \"xyz\""
   ]
  },
  {
   "cell_type": "code",
   "execution_count": 52,
   "id": "7ffb5c96",
   "metadata": {},
   "outputs": [
    {
     "data": {
      "text/plain": [
       "{'name': 'xyz', 'contact_info': 34345, 'k1': 'xyz', 'name1': 'xyz'}"
      ]
     },
     "execution_count": 52,
     "metadata": {},
     "output_type": "execute_result"
    }
   ],
   "source": [
    "d4"
   ]
  },
  {
   "cell_type": "code",
   "execution_count": 53,
   "id": "e7a29997",
   "metadata": {},
   "outputs": [
    {
     "data": {
      "text/plain": [
       "{'key1': 'value', 234: 'xyx', 'name': 'Sudh', 'no': 34324345}"
      ]
     },
     "execution_count": 53,
     "metadata": {},
     "output_type": "execute_result"
    }
   ],
   "source": [
    "d2"
   ]
  },
  {
   "cell_type": "code",
   "execution_count": 54,
   "id": "d555c769",
   "metadata": {},
   "outputs": [],
   "source": [
    "d4['k2'] = d2"
   ]
  },
  {
   "cell_type": "code",
   "execution_count": 55,
   "id": "201311cd",
   "metadata": {},
   "outputs": [
    {
     "data": {
      "text/plain": [
       "{'name': 'xyz',\n",
       " 'contact_info': 34345,\n",
       " 'k1': 'xyz',\n",
       " 'name1': 'xyz',\n",
       " 'k2': {'key1': 'value', 234: 'xyx', 'name': 'Sudh', 'no': 34324345}}"
      ]
     },
     "execution_count": 55,
     "metadata": {},
     "output_type": "execute_result"
    }
   ],
   "source": [
    "d4"
   ]
  },
  {
   "cell_type": "code",
   "execution_count": 56,
   "id": "e4907c3f",
   "metadata": {},
   "outputs": [
    {
     "data": {
      "text/plain": [
       "{'key1': 'value', 234: 'xyx', 'name': 'Sudh', 'no': 34324345}"
      ]
     },
     "execution_count": 56,
     "metadata": {},
     "output_type": "execute_result"
    }
   ],
   "source": [
    "d4['k2']"
   ]
  },
  {
   "cell_type": "code",
   "execution_count": 57,
   "id": "bfe920cc",
   "metadata": {},
   "outputs": [
    {
     "data": {
      "text/plain": [
       "34324345"
      ]
     },
     "execution_count": 57,
     "metadata": {},
     "output_type": "execute_result"
    }
   ],
   "source": [
    "d4['k2']['no']"
   ]
  },
  {
   "cell_type": "code",
   "execution_count": 58,
   "id": "6ada0335",
   "metadata": {},
   "outputs": [
    {
     "ename": "SyntaxError",
     "evalue": "invalid syntax (1/ipykernel_19008/1704302449.py, line 1)",
     "output_type": "error",
     "traceback": [
      "\u001b[1;36m  File \u001b[1;32m\"C:\\Users\\875305\\AppData\\Local\\Temp\\1/ipykernel_19008/1704302449.py\"\u001b[1;36m, line \u001b[1;32m1\u001b[0m\n\u001b[1;33m    d5 = {@ : \"sghlskj\"}\u001b[0m\n\u001b[1;37m          ^\u001b[0m\n\u001b[1;31mSyntaxError\u001b[0m\u001b[1;31m:\u001b[0m invalid syntax\n"
     ]
    }
   ],
   "source": [
    "d5 = {@ : \"sghlskj\"}"
   ]
  },
  {
   "cell_type": "code",
   "execution_count": 59,
   "id": "f093087c",
   "metadata": {},
   "outputs": [],
   "source": [
    "d5 = {_ : \"rahul\"}"
   ]
  },
  {
   "cell_type": "code",
   "execution_count": 60,
   "id": "b14f7b81",
   "metadata": {},
   "outputs": [
    {
     "data": {
      "text/plain": [
       "'rahul'"
      ]
     },
     "execution_count": 60,
     "metadata": {},
     "output_type": "execute_result"
    }
   ],
   "source": [
    "d5[_]"
   ]
  },
  {
   "cell_type": "code",
   "execution_count": 62,
   "id": "4b21ab62",
   "metadata": {},
   "outputs": [],
   "source": [
    "d6  = {(1,2,3,4) : \"Rahul\"}"
   ]
  },
  {
   "cell_type": "code",
   "execution_count": 63,
   "id": "cb65b5f0",
   "metadata": {},
   "outputs": [
    {
     "data": {
      "text/plain": [
       "'Rahul Rama Chandran'"
      ]
     },
     "execution_count": 63,
     "metadata": {},
     "output_type": "execute_result"
    }
   ],
   "source": [
    "d6[(1,2,3,4)]"
   ]
  },
  {
   "cell_type": "code",
   "execution_count": 64,
   "id": "0a4526b1",
   "metadata": {},
   "outputs": [
    {
     "ename": "TypeError",
     "evalue": "unhashable type: 'list'",
     "output_type": "error",
     "traceback": [
      "\u001b[1;31m---------------------------------------------------------------------------\u001b[0m",
      "\u001b[1;31mTypeError\u001b[0m                                 Traceback (most recent call last)",
      "\u001b[1;32m~\\AppData\\Local\\Temp\\1/ipykernel_19008/980421468.py\u001b[0m in \u001b[0;36m<module>\u001b[1;34m\u001b[0m\n\u001b[1;32m----> 1\u001b[1;33m \u001b[0md7\u001b[0m \u001b[1;33m=\u001b[0m \u001b[1;33m{\u001b[0m\u001b[1;33m[\u001b[0m\u001b[1;36m1\u001b[0m\u001b[1;33m,\u001b[0m\u001b[1;36m2\u001b[0m\u001b[1;33m,\u001b[0m\u001b[1;36m3\u001b[0m\u001b[1;33m,\u001b[0m\u001b[1;36m4\u001b[0m\u001b[1;33m]\u001b[0m \u001b[1;33m:\u001b[0m \u001b[1;34m\"California\"\u001b[0m\u001b[1;33m}\u001b[0m\u001b[1;33m\u001b[0m\u001b[1;33m\u001b[0m\u001b[0m\n\u001b[0m",
      "\u001b[1;31mTypeError\u001b[0m: unhashable type: 'list'"
     ]
    }
   ],
   "source": [
    "d7 = {[1,2,3,4] : \"California\"}"
   ]
  },
  {
   "cell_type": "code",
   "execution_count": 65,
   "id": "673a4313",
   "metadata": {},
   "outputs": [
    {
     "ename": "TypeError",
     "evalue": "unhashable type: 'dict'",
     "output_type": "error",
     "traceback": [
      "\u001b[1;31m---------------------------------------------------------------------------\u001b[0m",
      "\u001b[1;31mTypeError\u001b[0m                                 Traceback (most recent call last)",
      "\u001b[1;32m~\\AppData\\Local\\Temp\\1/ipykernel_19008/1487339332.py\u001b[0m in \u001b[0;36m<module>\u001b[1;34m\u001b[0m\n\u001b[1;32m----> 1\u001b[1;33m \u001b[0md7\u001b[0m \u001b[1;33m=\u001b[0m \u001b[1;33m{\u001b[0m\u001b[1;33m{\u001b[0m\u001b[1;36m3\u001b[0m \u001b[1;33m:\u001b[0m \u001b[1;36m4\u001b[0m\u001b[1;33m}\u001b[0m \u001b[1;33m:\u001b[0m \u001b[1;34m\"america\"\u001b[0m\u001b[1;33m}\u001b[0m\u001b[1;33m\u001b[0m\u001b[1;33m\u001b[0m\u001b[0m\n\u001b[0m",
      "\u001b[1;31mTypeError\u001b[0m: unhashable type: 'dict'"
     ]
    }
   ],
   "source": [
    "d7 = {{3 : 4} : \"america\"} "
   ]
  },
  {
   "cell_type": "code",
   "execution_count": 66,
   "id": "c7978920",
   "metadata": {},
   "outputs": [
    {
     "data": {
      "text/plain": [
       "{'key1': 'value', 234: 'xyx', 'name': 'Sudh', 'no': 34324345}"
      ]
     },
     "execution_count": 66,
     "metadata": {},
     "output_type": "execute_result"
    }
   ],
   "source": [
    "d2"
   ]
  },
  {
   "cell_type": "code",
   "execution_count": 67,
   "id": "87e4a205",
   "metadata": {},
   "outputs": [
    {
     "data": {
      "text/plain": [
       "{'name': 'sudh',\n",
       " 'tech': ['python', 'ML', 'DL', 'NLP', 'CV', 'Big Data', 'Data Analytics']}"
      ]
     },
     "execution_count": 67,
     "metadata": {},
     "output_type": "execute_result"
    }
   ],
   "source": [
    "d3"
   ]
  },
  {
   "cell_type": "code",
   "execution_count": 68,
   "id": "fd35d910",
   "metadata": {},
   "outputs": [
    {
     "ename": "TypeError",
     "evalue": "unsupported operand type(s) for +: 'dict' and 'dict'",
     "output_type": "error",
     "traceback": [
      "\u001b[1;31m---------------------------------------------------------------------------\u001b[0m",
      "\u001b[1;31mTypeError\u001b[0m                                 Traceback (most recent call last)",
      "\u001b[1;32m~\\AppData\\Local\\Temp\\1/ipykernel_19008/1277037592.py\u001b[0m in \u001b[0;36m<module>\u001b[1;34m\u001b[0m\n\u001b[1;32m----> 1\u001b[1;33m \u001b[0md2\u001b[0m \u001b[1;33m+\u001b[0m  \u001b[0md3\u001b[0m\u001b[1;33m\u001b[0m\u001b[1;33m\u001b[0m\u001b[0m\n\u001b[0m",
      "\u001b[1;31mTypeError\u001b[0m: unsupported operand type(s) for +: 'dict' and 'dict'"
     ]
    }
   ],
   "source": [
    "d2 +  d3"
   ]
  },
  {
   "cell_type": "code",
   "execution_count": 69,
   "id": "4228deb1",
   "metadata": {},
   "outputs": [
    {
     "data": {
      "text/plain": [
       "dict_keys(['key1', 234, 'name', 'no'])"
      ]
     },
     "execution_count": 69,
     "metadata": {},
     "output_type": "execute_result"
    }
   ],
   "source": [
    "d2.keys()"
   ]
  },
  {
   "cell_type": "code",
   "execution_count": 70,
   "id": "3c8bdc32",
   "metadata": {},
   "outputs": [
    {
     "data": {
      "text/plain": [
       "dict_values(['value', 'xyx', 'Sudh', 34324345])"
      ]
     },
     "execution_count": 70,
     "metadata": {},
     "output_type": "execute_result"
    }
   ],
   "source": [
    "d2.values()"
   ]
  },
  {
   "cell_type": "code",
   "execution_count": 71,
   "id": "0c9d897d",
   "metadata": {},
   "outputs": [
    {
     "data": {
      "text/plain": [
       "dict_items([('key1', 'value'), (234, 'xyx'), ('name', 'Sudh'), ('no', 34324345)])"
      ]
     },
     "execution_count": 71,
     "metadata": {},
     "output_type": "execute_result"
    }
   ],
   "source": [
    "d2.items()"
   ]
  },
  {
   "cell_type": "code",
   "execution_count": 72,
   "id": "881fcdae",
   "metadata": {},
   "outputs": [],
   "source": [
    "s = {3,4,5,6,7,8}"
   ]
  },
  {
   "cell_type": "code",
   "execution_count": 73,
   "id": "b16d5608",
   "metadata": {},
   "outputs": [
    {
     "data": {
      "text/plain": [
       "set"
      ]
     },
     "execution_count": 73,
     "metadata": {},
     "output_type": "execute_result"
    }
   ],
   "source": [
    "type(s)"
   ]
  },
  {
   "cell_type": "code",
   "execution_count": 74,
   "id": "ae4dd513",
   "metadata": {},
   "outputs": [],
   "source": [
    "s1 = {3,4,4,5,6,6,7,7,8,8,9,9,0,0,0}"
   ]
  },
  {
   "cell_type": "code",
   "execution_count": 75,
   "id": "26caa687",
   "metadata": {},
   "outputs": [
    {
     "data": {
      "text/plain": [
       "{0, 3, 4, 5, 6, 7, 8, 9}"
      ]
     },
     "execution_count": 75,
     "metadata": {},
     "output_type": "execute_result"
    }
   ],
   "source": [
    "s1"
   ]
  },
  {
   "cell_type": "code",
   "execution_count": 76,
   "id": "ea77ba0e",
   "metadata": {},
   "outputs": [],
   "source": [
    "s2  = {3245,4545,6456,5645,675,6234,345}"
   ]
  },
  {
   "cell_type": "code",
   "execution_count": 77,
   "id": "4a97bdcb",
   "metadata": {},
   "outputs": [
    {
     "data": {
      "text/plain": [
       "{345, 675, 3245, 4545, 5645, 6234, 6456}"
      ]
     },
     "execution_count": 77,
     "metadata": {},
     "output_type": "execute_result"
    }
   ],
   "source": [
    "s2"
   ]
  },
  {
   "cell_type": "code",
   "execution_count": 80,
   "id": "b1426dca",
   "metadata": {},
   "outputs": [],
   "source": [
    "s3 = {\"sudh\" , 324 ,34, 12,645,12,5,'b','6'}"
   ]
  },
  {
   "cell_type": "code",
   "execution_count": 81,
   "id": "85f7bc98",
   "metadata": {},
   "outputs": [
    {
     "data": {
      "text/plain": [
       "{12, 324, 34, 5, '6', 645, 'b', 'sudh'}"
      ]
     },
     "execution_count": 81,
     "metadata": {},
     "output_type": "execute_result"
    }
   ],
   "source": [
    "s3"
   ]
  },
  {
   "cell_type": "code",
   "execution_count": 82,
   "id": "9c73b9e0",
   "metadata": {},
   "outputs": [
    {
     "ename": "TypeError",
     "evalue": "'set' object is not subscriptable",
     "output_type": "error",
     "traceback": [
      "\u001b[1;31m---------------------------------------------------------------------------\u001b[0m",
      "\u001b[1;31mTypeError\u001b[0m                                 Traceback (most recent call last)",
      "\u001b[1;32m~\\AppData\\Local\\Temp\\1/ipykernel_19008/397937684.py\u001b[0m in \u001b[0;36m<module>\u001b[1;34m\u001b[0m\n\u001b[1;32m----> 1\u001b[1;33m \u001b[0ms3\u001b[0m\u001b[1;33m[\u001b[0m\u001b[1;36m0\u001b[0m\u001b[1;33m]\u001b[0m\u001b[1;33m\u001b[0m\u001b[1;33m\u001b[0m\u001b[0m\n\u001b[0m",
      "\u001b[1;31mTypeError\u001b[0m: 'set' object is not subscriptable"
     ]
    }
   ],
   "source": [
    "s3[0]"
   ]
  },
  {
   "cell_type": "code",
   "execution_count": 83,
   "id": "f4e65f81",
   "metadata": {},
   "outputs": [
    {
     "data": {
      "text/plain": [
       "[34, 324, 5, 645, 12, 'b', 'sudh', '6']"
      ]
     },
     "execution_count": 83,
     "metadata": {},
     "output_type": "execute_result"
    }
   ],
   "source": [
    "list(s3)"
   ]
  },
  {
   "cell_type": "code",
   "execution_count": 84,
   "id": "ee3cf21c",
   "metadata": {},
   "outputs": [
    {
     "data": {
      "text/plain": [
       "(34, 324, 5, 645, 12, 'b', 'sudh', '6')"
      ]
     },
     "execution_count": 84,
     "metadata": {},
     "output_type": "execute_result"
    }
   ],
   "source": [
    "tuple(s3)"
   ]
  },
  {
   "cell_type": "code",
   "execution_count": 85,
   "id": "a0da0c48",
   "metadata": {},
   "outputs": [],
   "source": [
    "l = [1,2,2,2,2,3,4,4,5,5,6,7,7,8,8,8,90,90]"
   ]
  },
  {
   "cell_type": "code",
   "execution_count": 86,
   "id": "d2f6c9c0",
   "metadata": {},
   "outputs": [],
   "source": [
    "l = list(set(l))"
   ]
  },
  {
   "cell_type": "code",
   "execution_count": 87,
   "id": "61292937",
   "metadata": {},
   "outputs": [
    {
     "data": {
      "text/plain": [
       "[1, 2, 3, 4, 5, 6, 7, 8, 90]"
      ]
     },
     "execution_count": 87,
     "metadata": {},
     "output_type": "execute_result"
    }
   ],
   "source": [
    "l"
   ]
  },
  {
   "cell_type": "code",
   "execution_count": 88,
   "id": "0867a288",
   "metadata": {},
   "outputs": [
    {
     "data": {
      "text/plain": [
       "{345, 675, 3245, 4545, 5645, 6234, 6456}"
      ]
     },
     "execution_count": 88,
     "metadata": {},
     "output_type": "execute_result"
    }
   ],
   "source": [
    "s2"
   ]
  },
  {
   "cell_type": "code",
   "execution_count": 89,
   "id": "7983e051",
   "metadata": {},
   "outputs": [],
   "source": [
    "s2.add(34)"
   ]
  },
  {
   "cell_type": "code",
   "execution_count": 90,
   "id": "3834d7d2",
   "metadata": {},
   "outputs": [
    {
     "data": {
      "text/plain": [
       "{34, 345, 675, 3245, 4545, 5645, 6234, 6456}"
      ]
     },
     "execution_count": 90,
     "metadata": {},
     "output_type": "execute_result"
    }
   ],
   "source": [
    "s2"
   ]
  },
  {
   "cell_type": "code",
   "execution_count": 91,
   "id": "fdc3e381",
   "metadata": {},
   "outputs": [
    {
     "data": {
      "text/plain": [
       "{34, 345, 675, 3245, 4545, 5645, 6234, 6456}"
      ]
     },
     "execution_count": 91,
     "metadata": {},
     "output_type": "execute_result"
    }
   ],
   "source": [
    "s2"
   ]
  },
  {
   "cell_type": "code",
   "execution_count": 92,
   "id": "8d2018bb",
   "metadata": {},
   "outputs": [
    {
     "ename": "TypeError",
     "evalue": "unhashable type: 'list'",
     "output_type": "error",
     "traceback": [
      "\u001b[1;31m---------------------------------------------------------------------------\u001b[0m",
      "\u001b[1;31mTypeError\u001b[0m                                 Traceback (most recent call last)",
      "\u001b[1;32m~\\AppData\\Local\\Temp\\1/ipykernel_19008/1499940319.py\u001b[0m in \u001b[0;36m<module>\u001b[1;34m\u001b[0m\n\u001b[1;32m----> 1\u001b[1;33m \u001b[0ms2\u001b[0m\u001b[1;33m.\u001b[0m\u001b[0madd\u001b[0m\u001b[1;33m(\u001b[0m\u001b[1;33m[\u001b[0m\u001b[1;36m1\u001b[0m\u001b[1;33m,\u001b[0m\u001b[1;36m2\u001b[0m\u001b[1;33m,\u001b[0m\u001b[1;36m3\u001b[0m\u001b[1;33m,\u001b[0m\u001b[1;36m4\u001b[0m\u001b[1;33m,\u001b[0m\u001b[1;36m5\u001b[0m\u001b[1;33m]\u001b[0m\u001b[1;33m)\u001b[0m\u001b[1;33m\u001b[0m\u001b[1;33m\u001b[0m\u001b[0m\n\u001b[0m",
      "\u001b[1;31mTypeError\u001b[0m: unhashable type: 'list'"
     ]
    }
   ],
   "source": [
    "s2.add([1,2,3,4,5])"
   ]
  },
  {
   "cell_type": "code",
   "execution_count": 93,
   "id": "14a1493c",
   "metadata": {},
   "outputs": [],
   "source": [
    "s = {(1,2,3,4,5), 3,4,45,5,65}"
   ]
  },
  {
   "cell_type": "code",
   "execution_count": 94,
   "id": "3bc8ad00",
   "metadata": {},
   "outputs": [
    {
     "data": {
      "text/plain": [
       "{(1, 2, 3, 4, 5), 3, 4, 45, 5, 65}"
      ]
     },
     "execution_count": 94,
     "metadata": {},
     "output_type": "execute_result"
    }
   ],
   "source": [
    "s"
   ]
  },
  {
   "cell_type": "code",
   "execution_count": 95,
   "id": "88fad1fc",
   "metadata": {},
   "outputs": [
    {
     "ename": "TypeError",
     "evalue": "unhashable type: 'list'",
     "output_type": "error",
     "traceback": [
      "\u001b[1;31m---------------------------------------------------------------------------\u001b[0m",
      "\u001b[1;31mTypeError\u001b[0m                                 Traceback (most recent call last)",
      "\u001b[1;32m~\\AppData\\Local\\Temp\\1/ipykernel_19008/3542417359.py\u001b[0m in \u001b[0;36m<module>\u001b[1;34m\u001b[0m\n\u001b[1;32m----> 1\u001b[1;33m \u001b[0ms1\u001b[0m \u001b[1;33m=\u001b[0m \u001b[1;33m{\u001b[0m\u001b[1;33m[\u001b[0m\u001b[1;36m1\u001b[0m\u001b[1;33m,\u001b[0m\u001b[1;36m2\u001b[0m\u001b[1;33m,\u001b[0m\u001b[1;36m3\u001b[0m\u001b[1;33m,\u001b[0m\u001b[1;36m4\u001b[0m\u001b[1;33m]\u001b[0m\u001b[1;33m,\u001b[0m\u001b[1;36m5\u001b[0m\u001b[1;33m,\u001b[0m\u001b[1;36m6\u001b[0m\u001b[1;33m}\u001b[0m\u001b[1;33m\u001b[0m\u001b[1;33m\u001b[0m\u001b[0m\n\u001b[0m",
      "\u001b[1;31mTypeError\u001b[0m: unhashable type: 'list'"
     ]
    }
   ],
   "source": [
    "s1 = {[1,2,3,4],5,6}"
   ]
  },
  {
   "cell_type": "code",
   "execution_count": 96,
   "id": "f7f28c2e",
   "metadata": {},
   "outputs": [
    {
     "data": {
      "text/plain": [
       "{(1, 2, 3, 4, 5), 3, 4, 45, 5, 65}"
      ]
     },
     "execution_count": 96,
     "metadata": {},
     "output_type": "execute_result"
    }
   ],
   "source": [
    "s"
   ]
  },
  {
   "cell_type": "code",
   "execution_count": 97,
   "id": "f86db673",
   "metadata": {},
   "outputs": [],
   "source": [
    "s.remove(3)"
   ]
  },
  {
   "cell_type": "code",
   "execution_count": 98,
   "id": "2360cca0",
   "metadata": {},
   "outputs": [
    {
     "data": {
      "text/plain": [
       "{(1, 2, 3, 4, 5), 4, 45, 5, 65}"
      ]
     },
     "execution_count": 98,
     "metadata": {},
     "output_type": "execute_result"
    }
   ],
   "source": [
    "s"
   ]
  },
  {
   "cell_type": "code",
   "execution_count": 99,
   "id": "1f4cf79b",
   "metadata": {},
   "outputs": [],
   "source": [
    "s.discard(4)"
   ]
  },
  {
   "cell_type": "code",
   "execution_count": 100,
   "id": "5ca76c96",
   "metadata": {},
   "outputs": [
    {
     "data": {
      "text/plain": [
       "{(1, 2, 3, 4, 5), 45, 5, 65}"
      ]
     },
     "execution_count": 100,
     "metadata": {},
     "output_type": "execute_result"
    }
   ],
   "source": [
    "s"
   ]
  },
  {
   "cell_type": "code",
   "execution_count": 101,
   "id": "4ec51b4e",
   "metadata": {},
   "outputs": [
    {
     "ename": "KeyError",
     "evalue": "3454",
     "output_type": "error",
     "traceback": [
      "\u001b[1;31m---------------------------------------------------------------------------\u001b[0m",
      "\u001b[1;31mKeyError\u001b[0m                                  Traceback (most recent call last)",
      "\u001b[1;32m~\\AppData\\Local\\Temp\\1/ipykernel_19008/2648275408.py\u001b[0m in \u001b[0;36m<module>\u001b[1;34m\u001b[0m\n\u001b[1;32m----> 1\u001b[1;33m \u001b[0ms\u001b[0m\u001b[1;33m.\u001b[0m\u001b[0mremove\u001b[0m\u001b[1;33m(\u001b[0m\u001b[1;36m3454\u001b[0m\u001b[1;33m)\u001b[0m\u001b[1;33m\u001b[0m\u001b[1;33m\u001b[0m\u001b[0m\n\u001b[0m",
      "\u001b[1;31mKeyError\u001b[0m: 3454"
     ]
    }
   ],
   "source": [
    "s.remove(3454)"
   ]
  },
  {
   "cell_type": "code",
   "execution_count": 102,
   "id": "7fe1f0e8",
   "metadata": {},
   "outputs": [],
   "source": [
    "s.discard(3454)"
   ]
  },
  {
   "cell_type": "code",
   "execution_count": 103,
   "id": "39e49b7f",
   "metadata": {},
   "outputs": [
    {
     "data": {
      "text/plain": [
       "{(1, 2, 3, 4, 5), 45, 5, 65}"
      ]
     },
     "execution_count": 103,
     "metadata": {},
     "output_type": "execute_result"
    }
   ],
   "source": [
    "s"
   ]
  },
  {
   "cell_type": "code",
   "execution_count": 7,
   "id": "b494eb8f",
   "metadata": {},
   "outputs": [],
   "source": [
    "l = [3,4,5,6,7,[23,456,67,8,78,78],[345,56,87,8,98,9], (234,6657,6) , {\"key1\" : \"sudh\" , 234 : [23,45,656]}]"
   ]
  },
  {
   "cell_type": "code",
   "execution_count": 8,
   "id": "9d0c5fe0",
   "metadata": {},
   "outputs": [],
   "source": [
    "l.reverse()"
   ]
  },
  {
   "cell_type": "code",
   "execution_count": 9,
   "id": "908f513a",
   "metadata": {},
   "outputs": [
    {
     "data": {
      "text/plain": [
       "[{'key1': 'sudh', 234: [23, 45, 656]},\n",
       " (234, 6657, 6),\n",
       " [345, 56, 87, 8, 98, 9],\n",
       " [23, 456, 67, 8, 78, 78],\n",
       " 7,\n",
       " 6,\n",
       " 5,\n",
       " 4,\n",
       " 3]"
      ]
     },
     "execution_count": 9,
     "metadata": {},
     "output_type": "execute_result"
    }
   ],
   "source": [
    "l"
   ]
  },
  {
   "cell_type": "code",
   "execution_count": 10,
   "id": "c52eeb6a",
   "metadata": {},
   "outputs": [
    {
     "data": {
      "text/plain": [
       "[3,\n",
       " 4,\n",
       " 5,\n",
       " 6,\n",
       " 7,\n",
       " [23, 456, 67, 8, 78, 78],\n",
       " [345, 56, 87, 8, 98, 9],\n",
       " (234, 6657, 6),\n",
       " {'key1': 'sudh', 234: [23, 45, 656]}]"
      ]
     },
     "execution_count": 10,
     "metadata": {},
     "output_type": "execute_result"
    }
   ],
   "source": [
    "# 1. Try to reverse a  list\n",
    "l[::-1]"
   ]
  },
  {
   "cell_type": "code",
   "execution_count": 5,
   "id": "f06dff2a",
   "metadata": {},
   "outputs": [],
   "source": [
    "#2. try to access 234 out of the list"
   ]
  },
  {
   "cell_type": "code",
   "execution_count": 12,
   "id": "9e0a7a22",
   "metadata": {},
   "outputs": [
    {
     "data": {
      "text/plain": [
       "[{'key1': 'sudh', 234: [23, 45, 656]},\n",
       " (234, 6657, 6),\n",
       " [345, 56, 87, 8, 98, 9],\n",
       " [23, 456, 67, 8, 78, 78],\n",
       " 7,\n",
       " 6,\n",
       " 5,\n",
       " 4,\n",
       " 3]"
      ]
     },
     "execution_count": 12,
     "metadata": {},
     "output_type": "execute_result"
    }
   ],
   "source": [
    "l"
   ]
  },
  {
   "cell_type": "code",
   "execution_count": 15,
   "id": "24f6349e",
   "metadata": {},
   "outputs": [
    {
     "data": {
      "text/plain": [
       "234"
      ]
     },
     "execution_count": 15,
     "metadata": {},
     "output_type": "execute_result"
    }
   ],
   "source": [
    "l[1][0]"
   ]
  },
  {
   "cell_type": "code",
   "execution_count": 17,
   "id": "001ac4ee",
   "metadata": {},
   "outputs": [
    {
     "data": {
      "text/plain": [
       "456"
      ]
     },
     "execution_count": 17,
     "metadata": {},
     "output_type": "execute_result"
    }
   ],
   "source": [
    "#3. try to access 456\n",
    "l[3][1]"
   ]
  },
  {
   "cell_type": "code",
   "execution_count": 19,
   "id": "d35fb144",
   "metadata": {},
   "outputs": [
    {
     "name": "stdout",
     "output_type": "stream",
     "text": [
      "[345, 56, 87, 8, 98, 9]\n",
      "[23, 456, 67, 8, 78, 78]\n"
     ]
    }
   ],
   "source": [
    "#4 .  try to extract only a list collection from list\n",
    "for i in l:\n",
    "    if type(i) == list:\n",
    "        print(i)"
   ]
  },
  {
   "cell_type": "code",
   "execution_count": 20,
   "id": "046228ec",
   "metadata": {},
   "outputs": [],
   "source": [
    "#5. try to extract \"sudh\""
   ]
  },
  {
   "cell_type": "code",
   "execution_count": 21,
   "id": "63d5ad05",
   "metadata": {},
   "outputs": [
    {
     "data": {
      "text/plain": [
       "[{'key1': 'sudh', 234: [23, 45, 656]},\n",
       " (234, 6657, 6),\n",
       " [345, 56, 87, 8, 98, 9],\n",
       " [23, 456, 67, 8, 78, 78],\n",
       " 7,\n",
       " 6,\n",
       " 5,\n",
       " 4,\n",
       " 3]"
      ]
     },
     "execution_count": 21,
     "metadata": {},
     "output_type": "execute_result"
    }
   ],
   "source": [
    "l"
   ]
  },
  {
   "cell_type": "code",
   "execution_count": 23,
   "id": "ae11e978",
   "metadata": {},
   "outputs": [
    {
     "data": {
      "text/plain": [
       "'sudh'"
      ]
     },
     "execution_count": 23,
     "metadata": {},
     "output_type": "execute_result"
    }
   ],
   "source": [
    "l[0]['key1']"
   ]
  },
  {
   "cell_type": "code",
   "execution_count": 24,
   "id": "378566e0",
   "metadata": {},
   "outputs": [],
   "source": [
    "#6. try to list all the key in dict element available in list"
   ]
  },
  {
   "cell_type": "code",
   "execution_count": 27,
   "id": "d8add8a4",
   "metadata": {},
   "outputs": [
    {
     "data": {
      "text/plain": [
       "dict_keys(['key1', 234])"
      ]
     },
     "execution_count": 27,
     "metadata": {},
     "output_type": "execute_result"
    }
   ],
   "source": [
    "l[0].keys()"
   ]
  },
  {
   "cell_type": "code",
   "execution_count": 28,
   "id": "4d6f29c4",
   "metadata": {},
   "outputs": [
    {
     "data": {
      "text/plain": [
       "dict_values(['sudh', [23, 45, 656]])"
      ]
     },
     "execution_count": 28,
     "metadata": {},
     "output_type": "execute_result"
    }
   ],
   "source": [
    "#7. try to extract all value elements from dictionary available in list\n",
    "l[0].values()"
   ]
  },
  {
   "cell_type": "code",
   "execution_count": null,
   "id": "86417aa8",
   "metadata": {},
   "outputs": [],
   "source": []
  }
 ],
 "metadata": {
  "kernelspec": {
   "display_name": "Python 3 (ipykernel)",
   "language": "python",
   "name": "python3"
  },
  "language_info": {
   "codemirror_mode": {
    "name": "ipython",
    "version": 3
   },
   "file_extension": ".py",
   "mimetype": "text/x-python",
   "name": "python",
   "nbconvert_exporter": "python",
   "pygments_lexer": "ipython3",
   "version": "3.9.7"
  }
 },
 "nbformat": 4,
 "nbformat_minor": 5
}
