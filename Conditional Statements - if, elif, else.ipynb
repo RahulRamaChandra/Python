{
 "cells": [
  {
   "cell_type": "code",
   "execution_count": 1,
   "id": "6c463b03",
   "metadata": {},
   "outputs": [
    {
     "name": "stdout",
     "output_type": "stream",
     "text": [
      "this is my first condition\n"
     ]
    }
   ],
   "source": [
    "a = 10\n",
    "if a == 10:\n",
    "    print(\"this is my first condition\")"
   ]
  },
  {
   "cell_type": "code",
   "execution_count": 2,
   "id": "47da6221",
   "metadata": {},
   "outputs": [],
   "source": [
    "if a == 11:\n",
    "    print(\"this is my first condition\")"
   ]
  },
  {
   "cell_type": "code",
   "execution_count": 3,
   "id": "11c226b1",
   "metadata": {},
   "outputs": [
    {
     "ename": "IndentationError",
     "evalue": "expected an indented block (1/ipykernel_16012/657565235.py, line 2)",
     "output_type": "error",
     "traceback": [
      "\u001b[1;36m  File \u001b[1;32m\"C:\\Users\\875305\\AppData\\Local\\Temp\\1/ipykernel_16012/657565235.py\"\u001b[1;36m, line \u001b[1;32m2\u001b[0m\n\u001b[1;33m    if  a > 5:\u001b[0m\n\u001b[1;37m              ^\u001b[0m\n\u001b[1;31mIndentationError\u001b[0m\u001b[1;31m:\u001b[0m expected an indented block\n"
     ]
    }
   ],
   "source": [
    "a = 10\n",
    "if  a > 5:"
   ]
  },
  {
   "cell_type": "code",
   "execution_count": 4,
   "id": "ebb1e703",
   "metadata": {},
   "outputs": [],
   "source": [
    "a = 10\n",
    "if a > 5:\n",
    "    pass"
   ]
  },
  {
   "cell_type": "code",
   "execution_count": 5,
   "id": "f35f1208",
   "metadata": {},
   "outputs": [
    {
     "name": "stdout",
     "output_type": "stream",
     "text": [
      "print this if condition is true\n"
     ]
    }
   ],
   "source": [
    "a = 10\n",
    "if a > 8:\n",
    "    print(\"print this if condition is true\")"
   ]
  },
  {
   "cell_type": "code",
   "execution_count": 7,
   "id": "f8537d2e",
   "metadata": {},
   "outputs": [],
   "source": [
    "a = 10\n",
    "if a < 8:\n",
    "    print(\"print this if condition is true\")"
   ]
  },
  {
   "cell_type": "code",
   "execution_count": 9,
   "id": "9f278fa4",
   "metadata": {},
   "outputs": [
    {
     "name": "stdout",
     "output_type": "stream",
     "text": [
      "my condition is false\n"
     ]
    }
   ],
   "source": [
    "a = 10\n",
    "if a !=  11:\n",
    "    print(\"my condition is false\")\n",
    "else:\n",
    "    print(\"print this\")"
   ]
  },
  {
   "cell_type": "code",
   "execution_count": 11,
   "id": "92a6cd7d",
   "metadata": {},
   "outputs": [
    {
     "name": "stdout",
     "output_type": "stream",
     "text": [
      "print this\n"
     ]
    }
   ],
   "source": [
    "a = 10\n",
    "if a ==  11:\n",
    "    print(\"my condition is false\")\n",
    "else:\n",
    "    print(\"print this\")"
   ]
  },
  {
   "cell_type": "code",
   "execution_count": 12,
   "id": "f37cf5bd",
   "metadata": {},
   "outputs": [
    {
     "name": "stdout",
     "output_type": "stream",
     "text": [
      "if all the blocks wil fail then do this\n"
     ]
    }
   ],
   "source": [
    "a = 10\n",
    "if a == 12:\n",
    "    print(\"here we are trying to compare 10 with 12\")\n",
    "elif a == 11:\n",
    "    print(\"here we are trying to compare 10 with 11\")\n",
    "    \n",
    "else:\n",
    "    print(\"if all the blocks wil fail then do this\")"
   ]
  },
  {
   "cell_type": "code",
   "execution_count": 13,
   "id": "781da1e8",
   "metadata": {},
   "outputs": [
    {
     "name": "stdout",
     "output_type": "stream",
     "text": [
      "here we are trying to compare 10 with 11\n"
     ]
    }
   ],
   "source": [
    "a = 10\n",
    "if a == 12:\n",
    "    print(\"here we are trying to compare 10 with 12\")\n",
    "elif a == 10:\n",
    "    print(\"here we are trying to compare 10 with 11\")\n",
    "    \n",
    "else:\n",
    "    print(\"if all the blocks wil fail then do this\")"
   ]
  },
  {
   "cell_type": "code",
   "execution_count": 14,
   "id": "65397c1e",
   "metadata": {},
   "outputs": [],
   "source": [
    "price = 500\n",
    "if price > 500:\n",
    "    print(\"may be I would be able to buy a jacket\")\n",
    "elif price < 500:\n",
    "    print(\"I will be able to buy a jacket\")"
   ]
  },
  {
   "cell_type": "code",
   "execution_count": 15,
   "id": "1c9bcfab",
   "metadata": {},
   "outputs": [
    {
     "name": "stdout",
     "output_type": "stream",
     "text": [
      "I will be able to buy a jacket\n"
     ]
    }
   ],
   "source": [
    "price = 500\n",
    "if price > 500:\n",
    "    print(\"may be I would be able to buy a jacket\")\n",
    "elif price <= 500:\n",
    "    print(\"I will be able to buy a jacket\")"
   ]
  },
  {
   "cell_type": "code",
   "execution_count": 16,
   "id": "3f7fdadf",
   "metadata": {},
   "outputs": [
    {
     "ename": "SyntaxError",
     "evalue": "invalid syntax (1/ipykernel_16012/3341272269.py, line 6)",
     "output_type": "error",
     "traceback": [
      "\u001b[1;36m  File \u001b[1;32m\"C:\\Users\\875305\\AppData\\Local\\Temp\\1/ipykernel_16012/3341272269.py\"\u001b[1;36m, line \u001b[1;32m6\u001b[0m\n\u001b[1;33m    else price  == 500:\u001b[0m\n\u001b[1;37m         ^\u001b[0m\n\u001b[1;31mSyntaxError\u001b[0m\u001b[1;31m:\u001b[0m invalid syntax\n"
     ]
    }
   ],
   "source": [
    "price = 500\n",
    "if price > 500:\n",
    "    print(\"may be I would be able to buy a jacket\")\n",
    "elif price < 500:\n",
    "    print(\"I will be able to buy a jacket\")\n",
    "else price  == 500:\n",
    "    print(\"I don't know\")"
   ]
  },
  {
   "cell_type": "code",
   "execution_count": 17,
   "id": "df8f50ce",
   "metadata": {},
   "outputs": [
    {
     "name": "stdout",
     "output_type": "stream",
     "text": [
      "I don't know\n"
     ]
    }
   ],
   "source": [
    "price = 500\n",
    "if price > 500:\n",
    "    print(\"may be I would be able to buy a jacket\")\n",
    "elif price < 500:\n",
    "    print(\"I will be able to buy a jacket\")\n",
    "else:\n",
    "    print(\"I don't know\")"
   ]
  },
  {
   "cell_type": "code",
   "execution_count": 19,
   "id": "9c7f5633",
   "metadata": {},
   "outputs": [
    {
     "name": "stdout",
     "output_type": "stream",
     "text": [
      "for sure I will be able to buy\n"
     ]
    }
   ],
   "source": [
    "price = 500\n",
    "if price > 500:\n",
    "    print(\"may be I would be able to buy a jacket\")\n",
    "elif price < 500:\n",
    "    print(\"I will be able to buy a jacket\")\n",
    "elif price == 500:\n",
    "    print(\"for sure I will be able to buy\")\n",
    "else:\n",
    "    print(\"I don't know\")"
   ]
  },
  {
   "cell_type": "code",
   "execution_count": 20,
   "id": "2e2ed681",
   "metadata": {},
   "outputs": [
    {
     "data": {
      "text/plain": [
       "False"
      ]
     },
     "execution_count": 20,
     "metadata": {},
     "output_type": "execute_result"
    }
   ],
   "source": [
    "price > 500"
   ]
  },
  {
   "cell_type": "code",
   "execution_count": 21,
   "id": "50e6cec9",
   "metadata": {},
   "outputs": [
    {
     "data": {
      "text/plain": [
       "False"
      ]
     },
     "execution_count": 21,
     "metadata": {},
     "output_type": "execute_result"
    }
   ],
   "source": [
    "price < 500"
   ]
  },
  {
   "cell_type": "code",
   "execution_count": 22,
   "id": "1fe26a49",
   "metadata": {},
   "outputs": [
    {
     "data": {
      "text/plain": [
       "True"
      ]
     },
     "execution_count": 22,
     "metadata": {},
     "output_type": "execute_result"
    }
   ],
   "source": [
    "l = [1,2,3,4,5,6]\n",
    "2 in l"
   ]
  },
  {
   "cell_type": "code",
   "execution_count": 23,
   "id": "3aeda6f1",
   "metadata": {},
   "outputs": [
    {
     "name": "stdout",
     "output_type": "stream",
     "text": [
      "try to performa a task\n"
     ]
    }
   ],
   "source": [
    "if 2 in l:\n",
    "    print(\"try to perform a task\")\n",
    "else:\n",
    "    print(\"do not perform this task\")"
   ]
  },
  {
   "cell_type": "code",
   "execution_count": 24,
   "id": "06b94197",
   "metadata": {},
   "outputs": [
    {
     "data": {
      "text/plain": [
       "False"
      ]
     },
     "execution_count": 24,
     "metadata": {},
     "output_type": "execute_result"
    }
   ],
   "source": [
    "60 in l"
   ]
  },
  {
   "cell_type": "code",
   "execution_count": 25,
   "id": "d27a20b2",
   "metadata": {},
   "outputs": [
    {
     "name": "stdout",
     "output_type": "stream",
     "text": [
      "do not perform this task\n"
     ]
    }
   ],
   "source": [
    "if 60 in l:\n",
    "    print(\"try to perform a task\")\n",
    "else:\n",
    "    print(\"do not perform this task\")"
   ]
  },
  {
   "cell_type": "code",
   "execution_count": 30,
   "id": "84c584a6",
   "metadata": {},
   "outputs": [
    {
     "data": {
      "text/plain": [
       "[1, 2, 3, 4, 5, 6]"
      ]
     },
     "execution_count": 30,
     "metadata": {},
     "output_type": "execute_result"
    }
   ],
   "source": [
    "l"
   ]
  },
  {
   "cell_type": "code",
   "execution_count": 26,
   "id": "f26777a8",
   "metadata": {},
   "outputs": [
    {
     "name": "stdout",
     "output_type": "stream",
     "text": [
      "try to do a addition\n"
     ]
    }
   ],
   "source": [
    "if 1 in l:\n",
    "    print(\"try to do a addition\")\n",
    "elif 2 in l:\n",
    "    print(\"try to do sub\")\n",
    "elif 3 in l:\n",
    "    print(\"try to do null\")"
   ]
  },
  {
   "cell_type": "code",
   "execution_count": 27,
   "id": "765e0482",
   "metadata": {},
   "outputs": [
    {
     "name": "stdout",
     "output_type": "stream",
     "text": [
      "try to do sub\n"
     ]
    }
   ],
   "source": [
    "if 10 in l:\n",
    "    print(\"try to do a addition\")\n",
    "elif 2 in l:\n",
    "    print(\"try to do sub\")\n",
    "elif 3 in l:\n",
    "    print(\"try to do null\")"
   ]
  },
  {
   "cell_type": "code",
   "execution_count": 29,
   "id": "788ca41e",
   "metadata": {},
   "outputs": [
    {
     "name": "stdout",
     "output_type": "stream",
     "text": [
      "try to do subtraction\n",
      "this is new statement\n"
     ]
    }
   ],
   "source": [
    "if 10 in l:\n",
    "    print(\"try to do a addition\")\n",
    "elif 2 in l:\n",
    "    print(\"try to do subtraction\")\n",
    "elif 3 in l:\n",
    "    print(\"try to do multiplication\")\n",
    "if 4 in l:\n",
    "    print(\"this is new statement\")"
   ]
  },
  {
   "cell_type": "code",
   "execution_count": 3,
   "id": "e240eeda",
   "metadata": {},
   "outputs": [
    {
     "name": "stdout",
     "output_type": "stream",
     "text": [
      "400\n"
     ]
    }
   ],
   "source": [
    "b = input()"
   ]
  },
  {
   "cell_type": "code",
   "execution_count": 5,
   "id": "b1fe9085",
   "metadata": {},
   "outputs": [
    {
     "data": {
      "text/plain": [
       "'400'"
      ]
     },
     "execution_count": 5,
     "metadata": {},
     "output_type": "execute_result"
    }
   ],
   "source": [
    "b"
   ]
  },
  {
   "cell_type": "code",
   "execution_count": 7,
   "id": "9f08597b",
   "metadata": {},
   "outputs": [
    {
     "data": {
      "text/plain": [
       "str"
      ]
     },
     "execution_count": 7,
     "metadata": {},
     "output_type": "execute_result"
    }
   ],
   "source": [
    "type(b)"
   ]
  },
  {
   "cell_type": "code",
   "execution_count": 8,
   "id": "0d8663de",
   "metadata": {},
   "outputs": [
    {
     "name": "stdout",
     "output_type": "stream",
     "text": [
      "rahul\n"
     ]
    },
    {
     "ename": "ValueError",
     "evalue": "invalid literal for int() with base 10: 'rahul'",
     "output_type": "error",
     "traceback": [
      "\u001b[1;31m---------------------------------------------------------------------------\u001b[0m",
      "\u001b[1;31mValueError\u001b[0m                                Traceback (most recent call last)",
      "\u001b[1;32m~\\AppData\\Local\\Temp\\1/ipykernel_12696/1104202879.py\u001b[0m in \u001b[0;36m<module>\u001b[1;34m\u001b[0m\n\u001b[1;32m----> 1\u001b[1;33m \u001b[0mb\u001b[0m \u001b[1;33m=\u001b[0m \u001b[0mint\u001b[0m\u001b[1;33m(\u001b[0m\u001b[0minput\u001b[0m\u001b[1;33m(\u001b[0m\u001b[1;33m)\u001b[0m\u001b[1;33m)\u001b[0m\u001b[1;33m\u001b[0m\u001b[1;33m\u001b[0m\u001b[0m\n\u001b[0m",
      "\u001b[1;31mValueError\u001b[0m: invalid literal for int() with base 10: 'rahul'"
     ]
    }
   ],
   "source": [
    "b = int(input())"
   ]
  },
  {
   "cell_type": "code",
   "execution_count": 9,
   "id": "e28036fb",
   "metadata": {},
   "outputs": [
    {
     "data": {
      "text/plain": [
       "str"
      ]
     },
     "execution_count": 9,
     "metadata": {},
     "output_type": "execute_result"
    }
   ],
   "source": [
    "type(b)"
   ]
  },
  {
   "cell_type": "code",
   "execution_count": 10,
   "id": "548fbc8d",
   "metadata": {},
   "outputs": [
    {
     "name": "stdout",
     "output_type": "stream",
     "text": [
      "35\n"
     ]
    }
   ],
   "source": [
    " b =  int(input())"
   ]
  },
  {
   "cell_type": "code",
   "execution_count": 11,
   "id": "704f4d05",
   "metadata": {},
   "outputs": [
    {
     "data": {
      "text/plain": [
       "int"
      ]
     },
     "execution_count": 11,
     "metadata": {},
     "output_type": "execute_result"
    }
   ],
   "source": [
    "type(b)"
   ]
  },
  {
   "cell_type": "code",
   "execution_count": 12,
   "id": "538ad591",
   "metadata": {},
   "outputs": [
    {
     "name": "stdout",
     "output_type": "stream",
     "text": [
      "rahul\n"
     ]
    },
    {
     "ename": "ValueError",
     "evalue": "invalid literal for int() with base 10: 'rahul'",
     "output_type": "error",
     "traceback": [
      "\u001b[1;31m---------------------------------------------------------------------------\u001b[0m",
      "\u001b[1;31mValueError\u001b[0m                                Traceback (most recent call last)",
      "\u001b[1;32m~\\AppData\\Local\\Temp\\1/ipykernel_12696/1172309618.py\u001b[0m in \u001b[0;36m<module>\u001b[1;34m\u001b[0m\n\u001b[1;32m----> 1\u001b[1;33m \u001b[0mprice\u001b[0m \u001b[1;33m=\u001b[0m \u001b[0mint\u001b[0m\u001b[1;33m(\u001b[0m\u001b[0minput\u001b[0m\u001b[1;33m(\u001b[0m\u001b[1;33m)\u001b[0m\u001b[1;33m)\u001b[0m\u001b[1;33m\u001b[0m\u001b[1;33m\u001b[0m\u001b[0m\n\u001b[0m\u001b[0;32m      2\u001b[0m \u001b[1;32mif\u001b[0m \u001b[0mprice\u001b[0m \u001b[1;33m<\u001b[0m \u001b[1;36m500\u001b[0m\u001b[1;33m:\u001b[0m\u001b[1;33m\u001b[0m\u001b[1;33m\u001b[0m\u001b[0m\n\u001b[0;32m      3\u001b[0m     \u001b[0mprint\u001b[0m\u001b[1;33m(\u001b[0m\u001b[1;34m\"I will be able to buy something\"\u001b[0m\u001b[1;33m)\u001b[0m\u001b[1;33m\u001b[0m\u001b[1;33m\u001b[0m\u001b[0m\n\u001b[0;32m      4\u001b[0m     \u001b[1;32mif\u001b[0m \u001b[0mprice\u001b[0m \u001b[1;33m<\u001b[0m \u001b[1;36m400\u001b[0m\u001b[1;33m:\u001b[0m\u001b[1;33m\u001b[0m\u001b[1;33m\u001b[0m\u001b[0m\n\u001b[0;32m      5\u001b[0m         \u001b[0mprint\u001b[0m\u001b[1;33m(\u001b[0m\u001b[1;34m\"I will be able to buy a jacket\"\u001b[0m\u001b[1;33m)\u001b[0m\u001b[1;33m\u001b[0m\u001b[1;33m\u001b[0m\u001b[0m\n",
      "\u001b[1;31mValueError\u001b[0m: invalid literal for int() with base 10: 'rahul'"
     ]
    }
   ],
   "source": [
    "price = int(input())\n",
    "if price < 500:\n",
    "    print(\"I will be able to buy something\")\n",
    "    if price < 400:\n",
    "        print(\"I will be able to buy a jacket\")\n",
    "    elif price < 300:\n",
    "        print(\"I will be able to buy a shirt\")\n",
    "    else:\n",
    "        print(\"I won't be able to buy anything\")\n",
    "else:\n",
    "    print(\"I won't be abl;e to buy anything with this price tag\")"
   ]
  },
  {
   "cell_type": "code",
   "execution_count": 14,
   "id": "b723d4f7",
   "metadata": {},
   "outputs": [
    {
     "name": "stdout",
     "output_type": "stream",
     "text": [
      "600\n",
      "I won't be able to buy anything with this price tag\n"
     ]
    }
   ],
   "source": [
    "price = int(input())\n",
    "if price < 500:\n",
    "    print(\"I will be able to buy something\")\n",
    "    if price < 400:\n",
    "        print(\"I will be able to buy a jacket\")\n",
    "    elif price < 300:\n",
    "        print(\"I will be able to buy a shirt\")\n",
    "    else:\n",
    "        print(\"I won't be able to buy anything\")\n",
    "else:\n",
    "    print(\"I won't be able to buy anything with this price tag\")"
   ]
  },
  {
   "cell_type": "code",
   "execution_count": 15,
   "id": "d2e44c5d",
   "metadata": {},
   "outputs": [
    {
     "name": "stdout",
     "output_type": "stream",
     "text": [
      "500\n",
      "I won't be able to buy anything with this price tag\n"
     ]
    }
   ],
   "source": [
    "price = int(input())\n",
    "if price < 500:\n",
    "    print(\"I will be able to buy something\")\n",
    "    if price < 400:\n",
    "        print(\"I will be able to buy a jacket\")\n",
    "    elif price < 300:\n",
    "        print(\"I will be able to buy a shirt\")\n",
    "    else:\n",
    "        print(\"I won't be able to buy anything\")\n",
    "else:\n",
    "    print(\"I won't be able to buy anything with this price tag\")"
   ]
  },
  {
   "cell_type": "code",
   "execution_count": 16,
   "id": "397a3b60",
   "metadata": {},
   "outputs": [
    {
     "name": "stdout",
     "output_type": "stream",
     "text": [
      "490\n",
      "I will be able to buy something\n",
      "I won't be able to buy anything\n"
     ]
    }
   ],
   "source": [
    "price = int(input())\n",
    "if price < 500:\n",
    "    print(\"I will be able to buy something\")\n",
    "    if price < 400:\n",
    "        print(\"I will be able to buy a jacket\")\n",
    "    elif price < 300:\n",
    "        print(\"I will be able to buy a shirt\")\n",
    "    else:\n",
    "        print(\"I won't be able to buy anything\")\n",
    "else:\n",
    "    print(\"I won't be able to buy anything with this price tag\")"
   ]
  },
  {
   "cell_type": "code",
   "execution_count": 17,
   "id": "0d5c4503",
   "metadata": {},
   "outputs": [
    {
     "name": "stdout",
     "output_type": "stream",
     "text": [
      "300\n",
      "I will be able to buy something\n",
      "I will be able to buy a jacket\n"
     ]
    }
   ],
   "source": [
    "price = int(input())\n",
    "if price < 500:\n",
    "    print(\"I will be able to buy something\")\n",
    "    if price < 400:\n",
    "        print(\"I will be able to buy a jacket\")\n",
    "    elif price < 300:\n",
    "        print(\"I will be able to buy a shirt\")\n",
    "    else:\n",
    "        print(\"I won't be able to buy anything\")\n",
    "else:\n",
    "    print(\"I won't be able to buy anything with this price tag\")"
   ]
  },
  {
   "cell_type": "code",
   "execution_count": 18,
   "id": "e4cb541b",
   "metadata": {},
   "outputs": [
    {
     "name": "stdout",
     "output_type": "stream",
     "text": [
      "600\n",
      "I won't be able to buy anything with this price tag\n",
      "Let's try something else\n"
     ]
    }
   ],
   "source": [
    "price = int(input())\n",
    "if price < 500:\n",
    "    print(\"I will be able to buy something\")\n",
    "    if price < 400:\n",
    "        print(\"I will be able to buy a jacket\")\n",
    "    elif price < 300:\n",
    "        print(\"I will be able to buy a shirt\")\n",
    "        if price < 200:\n",
    "            print(\"I would like to do something\")\n",
    "    else:\n",
    "        print(\"I won't be able to buy anything\")\n",
    "else:\n",
    "    print(\"I won't be able to buy anything with this price tag\")\n",
    "    if price > 500:\n",
    "        print(\"Let's try something else\")"
   ]
  },
  {
   "cell_type": "code",
   "execution_count": 24,
   "id": "35f84121",
   "metadata": {},
   "outputs": [
    {
     "name": "stdout",
     "output_type": "stream",
     "text": [
      "700\n",
      "I will be able to clear GRE\n"
     ]
    }
   ],
   "source": [
    "marks = int(input())\n",
    "if marks > 600:\n",
    "    print(\"I will be able to clear GRE\")\n",
    "else:\n",
    "    print(\"No GRE\")\n",
    "    if marks < 500:\n",
    "        print(\"I will be able to get into TOFEL\")\n",
    "    elif marks < 400:\n",
    "        print(\"Try something else\")"
   ]
  },
  {
   "cell_type": "code",
   "execution_count": 1,
   "id": "523bef4b",
   "metadata": {},
   "outputs": [
    {
     "name": "stdout",
     "output_type": "stream",
     "text": [
      "enter a number:45\n"
     ]
    }
   ],
   "source": [
    "val = int(input(\"enter a number:\"))"
   ]
  },
  {
   "cell_type": "code",
   "execution_count": 2,
   "id": "93d15c4d",
   "metadata": {},
   "outputs": [
    {
     "name": "stdout",
     "output_type": "stream",
     "text": [
      "enter a floating point number324\n",
      "entered value is a positive number\n"
     ]
    }
   ],
   "source": [
    "val = float(input(\"enter a floating point number\"))\n",
    "if val >= 0:\n",
    "    if val == 0:\n",
    "        print(\"entered value is zero\")\n",
    "    else:\n",
    "        print(\"entered value is a positive number\")\n",
    "else:\n",
    "    print(\"entered number is a negative number\")"
   ]
  },
  {
   "cell_type": "code",
   "execution_count": 2,
   "id": "57776360",
   "metadata": {},
   "outputs": [
    {
     "name": "stdout",
     "output_type": "stream",
     "text": [
      "try to do something\n"
     ]
    }
   ],
   "source": [
    "a = 10\n",
    "if a <= 10:\n",
    "    print(\"try to do something\")"
   ]
  },
  {
   "cell_type": "code",
   "execution_count": 4,
   "id": "0563d918",
   "metadata": {},
   "outputs": [
    {
     "name": "stdout",
     "output_type": "stream",
     "text": [
      "try to do something\n"
     ]
    }
   ],
   "source": [
    "a = 10\n",
    "if a < 10 or a == 10:\n",
    "    print(\"try to do something\")"
   ]
  },
  {
   "cell_type": "code",
   "execution_count": 5,
   "id": "976bf53b",
   "metadata": {},
   "outputs": [],
   "source": [
    "a = 10\n",
    "if a < 10 or a > 10:\n",
    "    print(\"try to do something\")"
   ]
  },
  {
   "cell_type": "code",
   "execution_count": 6,
   "id": "59466514",
   "metadata": {},
   "outputs": [],
   "source": [
    "a = 10\n",
    "if a < 10 and a == 10:\n",
    "    print(\"try to do something\")"
   ]
  },
  {
   "cell_type": "code",
   "execution_count": 7,
   "id": "8741841b",
   "metadata": {},
   "outputs": [],
   "source": [
    "a = \"sudh\"\n",
    "if a == \"sudh\" and a == \"Sudh\":\n",
    "    print(\"this is sudh\")"
   ]
  },
  {
   "cell_type": "code",
   "execution_count": 8,
   "id": "d06ce8cf",
   "metadata": {},
   "outputs": [
    {
     "name": "stdout",
     "output_type": "stream",
     "text": [
      "this is sudh\n"
     ]
    }
   ],
   "source": [
    "a = \"sudh\"\n",
    "if a == \"sudh\" or a == \"Sudh\":\n",
    "    print(\"this is sudh\")"
   ]
  },
  {
   "cell_type": "code",
   "execution_count": 9,
   "id": "cc784c9e",
   "metadata": {},
   "outputs": [],
   "source": [
    "a = 10\n",
    "b = 11\n",
    "c = 12\n",
    "d = 13\n",
    "\n",
    "if a == 9 and b == 11 and c == 12 and d == 13:\n",
    "    print(\"lets do something\")"
   ]
  },
  {
   "cell_type": "code",
   "execution_count": 10,
   "id": "898f3e85",
   "metadata": {},
   "outputs": [
    {
     "name": "stdout",
     "output_type": "stream",
     "text": [
      "lets do something\n"
     ]
    }
   ],
   "source": [
    "a = 10\n",
    "b = 11\n",
    "c = 12\n",
    "d = 13\n",
    "\n",
    "if a == 9 or b == 11 and c == 12 and d == 13:\n",
    "    print(\"lets do something\")"
   ]
  },
  {
   "cell_type": "code",
   "execution_count": 11,
   "id": "ba1e542d",
   "metadata": {},
   "outputs": [],
   "source": [
    "d = {'key1' : \"value\" , 'key2' : \"sudh\" , 'key3' : \"iNeuron\"}"
   ]
  },
  {
   "cell_type": "code",
   "execution_count": 14,
   "id": "8cd3045f",
   "metadata": {},
   "outputs": [
    {
     "name": "stdout",
     "output_type": "stream",
     "text": [
      "all the values are varified\n",
      "dict_values(['value', 'sudh', 'iNeuron'])\n"
     ]
    }
   ],
   "source": [
    "if d['key1'] == \"value\" and d['key2'] == \"sudh\" and d[\"key3\"] == \"iNeuron\":\n",
    "    print(\"all the values are varified\")\n",
    "    print(d.values())"
   ]
  },
  {
   "cell_type": "code",
   "execution_count": 15,
   "id": "f9d92f46",
   "metadata": {},
   "outputs": [
    {
     "name": "stdout",
     "output_type": "stream",
     "text": [
      "all the values are  not verified\n"
     ]
    }
   ],
   "source": [
    "if d['key1'] == \"value\" and d['key2'] == \"Sudh\" and d[\"key3\"] == \"iNeuron\":\n",
    "    print(\"all the values are varified\")\n",
    "    print(d.values())\n",
    "else :\n",
    "    print(\"all the values are  not verified\")"
   ]
  },
  {
   "cell_type": "code",
   "execution_count": 16,
   "id": "c482e93f",
   "metadata": {},
   "outputs": [
    {
     "data": {
      "text/plain": [
       "'value'"
      ]
     },
     "execution_count": 16,
     "metadata": {},
     "output_type": "execute_result"
    }
   ],
   "source": [
    "d['key1']"
   ]
  },
  {
   "cell_type": "code",
   "execution_count": 17,
   "id": "320ca618",
   "metadata": {},
   "outputs": [],
   "source": [
    "l  = [1,2,3,4,5,\"sudh\",234.45]"
   ]
  },
  {
   "cell_type": "code",
   "execution_count": 18,
   "id": "a57b8e1a",
   "metadata": {},
   "outputs": [
    {
     "data": {
      "text/plain": [
       "1"
      ]
     },
     "execution_count": 18,
     "metadata": {},
     "output_type": "execute_result"
    }
   ],
   "source": [
    "l[0]"
   ]
  },
  {
   "cell_type": "code",
   "execution_count": 19,
   "id": "a9ab080b",
   "metadata": {},
   "outputs": [
    {
     "data": {
      "text/plain": [
       "2"
      ]
     },
     "execution_count": 19,
     "metadata": {},
     "output_type": "execute_result"
    }
   ],
   "source": [
    "l[1]"
   ]
  },
  {
   "cell_type": "code",
   "execution_count": 20,
   "id": "d77813bc",
   "metadata": {},
   "outputs": [
    {
     "data": {
      "text/plain": [
       "[3, 4, 5]"
      ]
     },
     "execution_count": 20,
     "metadata": {},
     "output_type": "execute_result"
    }
   ],
   "source": [
    "l[2:5]"
   ]
  },
  {
   "cell_type": "code",
   "execution_count": 21,
   "id": "c6dffa10",
   "metadata": {},
   "outputs": [
    {
     "name": "stdout",
     "output_type": "stream",
     "text": [
      "1\n",
      "2\n",
      "3\n",
      "4\n",
      "5\n",
      "sudh\n",
      "234.45\n"
     ]
    }
   ],
   "source": [
    "for i in l :\n",
    "    print(i)"
   ]
  },
  {
   "cell_type": "code",
   "execution_count": 22,
   "id": "b81b4aec",
   "metadata": {},
   "outputs": [
    {
     "name": "stdout",
     "output_type": "stream",
     "text": [
      "2\n",
      "3\n",
      "4\n",
      "5\n",
      "6\n"
     ]
    },
    {
     "ename": "TypeError",
     "evalue": "can only concatenate str (not \"int\") to str",
     "output_type": "error",
     "traceback": [
      "\u001b[1;31m---------------------------------------------------------------------------\u001b[0m",
      "\u001b[1;31mTypeError\u001b[0m                                 Traceback (most recent call last)",
      "\u001b[1;32m~\\AppData\\Local\\Temp\\3/ipykernel_9428/792718838.py\u001b[0m in \u001b[0;36m<module>\u001b[1;34m\u001b[0m\n\u001b[0;32m      1\u001b[0m \u001b[1;32mfor\u001b[0m \u001b[0mi\u001b[0m \u001b[1;32min\u001b[0m \u001b[0ml\u001b[0m\u001b[1;33m:\u001b[0m\u001b[1;33m\u001b[0m\u001b[1;33m\u001b[0m\u001b[0m\n\u001b[1;32m----> 2\u001b[1;33m     \u001b[0mprint\u001b[0m\u001b[1;33m(\u001b[0m\u001b[0mi\u001b[0m \u001b[1;33m+\u001b[0m \u001b[1;36m1\u001b[0m\u001b[1;33m)\u001b[0m\u001b[1;33m\u001b[0m\u001b[1;33m\u001b[0m\u001b[0m\n\u001b[0m",
      "\u001b[1;31mTypeError\u001b[0m: can only concatenate str (not \"int\") to str"
     ]
    }
   ],
   "source": [
    "for i in l:\n",
    "    print(i + 1)"
   ]
  },
  {
   "cell_type": "code",
   "execution_count": 23,
   "id": "fbf68469",
   "metadata": {},
   "outputs": [
    {
     "name": "stdout",
     "output_type": "stream",
     "text": [
      "2\n",
      "3\n",
      "4\n",
      "5\n",
      "6\n",
      "sudh1\n"
     ]
    }
   ],
   "source": [
    "for i in l:\n",
    "    if type(i) == int:\n",
    "        print(i + 1)\n",
    "    elif type(i) == str:\n",
    "        print(i + str(1))"
   ]
  },
  {
   "cell_type": "code",
   "execution_count": 24,
   "id": "3b9764bc",
   "metadata": {},
   "outputs": [
    {
     "name": "stdout",
     "output_type": "stream",
     "text": [
      "2\n",
      "3\n",
      "4\n",
      "5\n",
      "6\n",
      "sudh1\n",
      "235.45\n"
     ]
    }
   ],
   "source": [
    "for i in l:\n",
    "    if type(i) == int or type(i) == float:\n",
    "        print(i + 1)\n",
    "    elif type(i) == str:\n",
    "        print(i + str(1))"
   ]
  },
  {
   "cell_type": "code",
   "execution_count": 28,
   "id": "4b4d9e93",
   "metadata": {},
   "outputs": [],
   "source": [
    "l1 = []\n",
    "for i in l:\n",
    "    if type(i) == int:\n",
    "        l1.append(i)"
   ]
  },
  {
   "cell_type": "code",
   "execution_count": 29,
   "id": "8483777e",
   "metadata": {},
   "outputs": [
    {
     "data": {
      "text/plain": [
       "[1, 2, 3, 4, 5]"
      ]
     },
     "execution_count": 29,
     "metadata": {},
     "output_type": "execute_result"
    }
   ],
   "source": [
    "l1"
   ]
  },
  {
   "cell_type": "code",
   "execution_count": null,
   "id": "9f687283",
   "metadata": {},
   "outputs": [],
   "source": []
  }
 ],
 "metadata": {
  "kernelspec": {
   "display_name": "Python 3 (ipykernel)",
   "language": "python",
   "name": "python3"
  },
  "language_info": {
   "codemirror_mode": {
    "name": "ipython",
    "version": 3
   },
   "file_extension": ".py",
   "mimetype": "text/x-python",
   "name": "python",
   "nbconvert_exporter": "python",
   "pygments_lexer": "ipython3",
   "version": "3.9.7"
  }
 },
 "nbformat": 4,
 "nbformat_minor": 5
}
