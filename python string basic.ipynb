{
 "cells": [
  {
   "cell_type": "code",
   "execution_count": 1,
   "id": "848433f9",
   "metadata": {},
   "outputs": [],
   "source": [
    "s = \"ineuron\""
   ]
  },
  {
   "cell_type": "code",
   "execution_count": 2,
   "id": "77fa84aa",
   "metadata": {},
   "outputs": [
    {
     "data": {
      "text/plain": [
       "str"
      ]
     },
     "execution_count": 2,
     "metadata": {},
     "output_type": "execute_result"
    }
   ],
   "source": [
    "type(s)"
   ]
  },
  {
   "cell_type": "code",
   "execution_count": 3,
   "id": "1befddf1",
   "metadata": {},
   "outputs": [
    {
     "data": {
      "text/plain": [
       "'i'"
      ]
     },
     "execution_count": 3,
     "metadata": {},
     "output_type": "execute_result"
    }
   ],
   "source": [
    "s[0]"
   ]
  },
  {
   "cell_type": "code",
   "execution_count": 4,
   "id": "3ef1325b",
   "metadata": {},
   "outputs": [
    {
     "data": {
      "text/plain": [
       "'o'"
      ]
     },
     "execution_count": 4,
     "metadata": {},
     "output_type": "execute_result"
    }
   ],
   "source": [
    "s[5]"
   ]
  },
  {
   "cell_type": "code",
   "execution_count": 5,
   "id": "d222011a",
   "metadata": {},
   "outputs": [
    {
     "data": {
      "text/plain": [
       "'n'"
      ]
     },
     "execution_count": 5,
     "metadata": {},
     "output_type": "execute_result"
    }
   ],
   "source": [
    "s[-1]"
   ]
  },
  {
   "cell_type": "code",
   "execution_count": 6,
   "id": "45c7d11e",
   "metadata": {},
   "outputs": [],
   "source": [
    "s1 = 'sudh'"
   ]
  },
  {
   "cell_type": "code",
   "execution_count": 7,
   "id": "de737c63",
   "metadata": {},
   "outputs": [
    {
     "data": {
      "text/plain": [
       "'s'"
      ]
     },
     "execution_count": 7,
     "metadata": {},
     "output_type": "execute_result"
    }
   ],
   "source": [
    "s1[0]"
   ]
  },
  {
   "cell_type": "code",
   "execution_count": 8,
   "id": "7a5d0277",
   "metadata": {},
   "outputs": [
    {
     "data": {
      "text/plain": [
       "'h'"
      ]
     },
     "execution_count": 8,
     "metadata": {},
     "output_type": "execute_result"
    }
   ],
   "source": [
    "s1[-1]"
   ]
  },
  {
   "cell_type": "code",
   "execution_count": 9,
   "id": "184cd709",
   "metadata": {},
   "outputs": [
    {
     "data": {
      "text/plain": [
       "'d'"
      ]
     },
     "execution_count": 9,
     "metadata": {},
     "output_type": "execute_result"
    }
   ],
   "source": [
    "s1[-2]"
   ]
  },
  {
   "cell_type": "code",
   "execution_count": 10,
   "id": "d494e7b3",
   "metadata": {},
   "outputs": [
    {
     "ename": "SyntaxError",
     "evalue": "invalid syntax (1/ipykernel_3120/3431759213.py, line 1)",
     "output_type": "error",
     "traceback": [
      "\u001b[1;36m  File \u001b[1;32m\"C:\\Users\\875305\\AppData\\Local\\Temp\\1/ipykernel_3120/3431759213.py\"\u001b[1;36m, line \u001b[1;32m1\u001b[0m\n\u001b[1;33m    'this is my very first programming class's'\u001b[0m\n\u001b[1;37m                                             ^\u001b[0m\n\u001b[1;31mSyntaxError\u001b[0m\u001b[1;31m:\u001b[0m invalid syntax\n"
     ]
    }
   ],
   "source": [
    "'this is my very first programming class's'"
   ]
  },
  {
   "cell_type": "code",
   "execution_count": 13,
   "id": "d1d8dd3c",
   "metadata": {},
   "outputs": [],
   "source": [
    "s2 = \"this is my very first programming class's\""
   ]
  },
  {
   "cell_type": "code",
   "execution_count": 14,
   "id": "f18dfd0b",
   "metadata": {},
   "outputs": [
    {
     "data": {
      "text/plain": [
       "\"this is my very first programming class's\""
      ]
     },
     "execution_count": 14,
     "metadata": {},
     "output_type": "execute_result"
    }
   ],
   "source": [
    "s2"
   ]
  },
  {
   "cell_type": "code",
   "execution_count": 15,
   "id": "82fa3fa9",
   "metadata": {},
   "outputs": [
    {
     "data": {
      "text/plain": [
       "'m'"
      ]
     },
     "execution_count": 15,
     "metadata": {},
     "output_type": "execute_result"
    }
   ],
   "source": [
    "s2[8]"
   ]
  },
  {
   "cell_type": "code",
   "execution_count": 16,
   "id": "ff582255",
   "metadata": {},
   "outputs": [
    {
     "data": {
      "text/plain": [
       "\"'\""
      ]
     },
     "execution_count": 16,
     "metadata": {},
     "output_type": "execute_result"
    }
   ],
   "source": [
    "s2[-2]"
   ]
  },
  {
   "cell_type": "code",
   "execution_count": 18,
   "id": "727222a1",
   "metadata": {},
   "outputs": [
    {
     "data": {
      "text/plain": [
       "'this is'"
      ]
     },
     "execution_count": 18,
     "metadata": {},
     "output_type": "execute_result"
    }
   ],
   "source": [
    "s2[0:7]"
   ]
  },
  {
   "cell_type": "code",
   "execution_count": 19,
   "id": "40fd9a28",
   "metadata": {},
   "outputs": [
    {
     "data": {
      "text/plain": [
       "'his '"
      ]
     },
     "execution_count": 19,
     "metadata": {},
     "output_type": "execute_result"
    }
   ],
   "source": [
    "s2[1:5]"
   ]
  },
  {
   "cell_type": "code",
   "execution_count": 20,
   "id": "8fbd4c7d",
   "metadata": {},
   "outputs": [
    {
     "data": {
      "text/plain": [
       "\"this is my very first programming class's\""
      ]
     },
     "execution_count": 20,
     "metadata": {},
     "output_type": "execute_result"
    }
   ],
   "source": [
    "s2"
   ]
  },
  {
   "cell_type": "code",
   "execution_count": 22,
   "id": "06b89ec0",
   "metadata": {},
   "outputs": [
    {
     "data": {
      "text/plain": [
       "'s my very first programm'"
      ]
     },
     "execution_count": 22,
     "metadata": {},
     "output_type": "execute_result"
    }
   ],
   "source": [
    "s2[6:30]"
   ]
  },
  {
   "cell_type": "code",
   "execution_count": 23,
   "id": "10e91b20",
   "metadata": {},
   "outputs": [
    {
     "data": {
      "text/plain": [
       "\"this is my very first programming class's\""
      ]
     },
     "execution_count": 23,
     "metadata": {},
     "output_type": "execute_result"
    }
   ],
   "source": [
    "s2"
   ]
  },
  {
   "cell_type": "code",
   "execution_count": 25,
   "id": "75c34b1b",
   "metadata": {},
   "outputs": [
    {
     "data": {
      "text/plain": [
       "'ti sm eyfrtpormigcass'"
      ]
     },
     "execution_count": 25,
     "metadata": {},
     "output_type": "execute_result"
    }
   ],
   "source": [
    "s2[::2]"
   ]
  },
  {
   "cell_type": "code",
   "execution_count": 26,
   "id": "7e1bf774",
   "metadata": {},
   "outputs": [
    {
     "data": {
      "text/plain": [
       "\"s'ssalc gnimmargorp tsrif yrev ym si siht\""
      ]
     },
     "execution_count": 26,
     "metadata": {},
     "output_type": "execute_result"
    }
   ],
   "source": [
    "s2[::-1]"
   ]
  },
  {
   "cell_type": "code",
   "execution_count": 27,
   "id": "66aba071",
   "metadata": {},
   "outputs": [],
   "source": [
    "s = \"rahulramachandran\""
   ]
  },
  {
   "cell_type": "code",
   "execution_count": 29,
   "id": "7442693b",
   "metadata": {},
   "outputs": [
    {
     "data": {
      "text/plain": [
       "'rhlaa'"
      ]
     },
     "execution_count": 29,
     "metadata": {},
     "output_type": "execute_result"
    }
   ],
   "source": [
    "s[0:9:2]"
   ]
  },
  {
   "cell_type": "code",
   "execution_count": 31,
   "id": "0b048d1d",
   "metadata": {},
   "outputs": [
    {
     "data": {
      "text/plain": [
       "'rahulrama'"
      ]
     },
     "execution_count": 31,
     "metadata": {},
     "output_type": "execute_result"
    }
   ],
   "source": [
    "s[0:9:1]"
   ]
  },
  {
   "cell_type": "code",
   "execution_count": 32,
   "id": "3c97a420",
   "metadata": {},
   "outputs": [
    {
     "data": {
      "text/plain": [
       "'rahulramachandran'"
      ]
     },
     "execution_count": 32,
     "metadata": {},
     "output_type": "execute_result"
    }
   ],
   "source": [
    "s"
   ]
  },
  {
   "cell_type": "code",
   "execution_count": 33,
   "id": "f0fa62d3",
   "metadata": {},
   "outputs": [
    {
     "data": {
      "text/plain": [
       "''"
      ]
     },
     "execution_count": 33,
     "metadata": {},
     "output_type": "execute_result"
    }
   ],
   "source": [
    "s[0:8:-1]"
   ]
  },
  {
   "cell_type": "code",
   "execution_count": 35,
   "id": "e2ce780d",
   "metadata": {},
   "outputs": [
    {
     "data": {
      "text/plain": [
       "'amarluha'"
      ]
     },
     "execution_count": 35,
     "metadata": {},
     "output_type": "execute_result"
    }
   ],
   "source": [
    "s[8:0:-1]"
   ]
  },
  {
   "cell_type": "code",
   "execution_count": 36,
   "id": "74d947e8",
   "metadata": {},
   "outputs": [
    {
     "data": {
      "text/plain": [
       "'aalh'"
      ]
     },
     "execution_count": 36,
     "metadata": {},
     "output_type": "execute_result"
    }
   ],
   "source": [
    "s[8:0:-2]"
   ]
  },
  {
   "cell_type": "code",
   "execution_count": 37,
   "id": "4b4317f9",
   "metadata": {},
   "outputs": [
    {
     "data": {
      "text/plain": [
       "'rahulramachandran'"
      ]
     },
     "execution_count": 37,
     "metadata": {},
     "output_type": "execute_result"
    }
   ],
   "source": [
    "s"
   ]
  },
  {
   "cell_type": "code",
   "execution_count": 38,
   "id": "cae7ef48",
   "metadata": {},
   "outputs": [
    {
     "data": {
      "text/plain": [
       "'rahulramachandra'"
      ]
     },
     "execution_count": 38,
     "metadata": {},
     "output_type": "execute_result"
    }
   ],
   "source": [
    "s[:-1]"
   ]
  },
  {
   "cell_type": "code",
   "execution_count": 39,
   "id": "80ab4edd",
   "metadata": {},
   "outputs": [
    {
     "data": {
      "text/plain": [
       "'rahulramachand'"
      ]
     },
     "execution_count": 39,
     "metadata": {},
     "output_type": "execute_result"
    }
   ],
   "source": [
    "s[:-3]"
   ]
  },
  {
   "cell_type": "code",
   "execution_count": 41,
   "id": "9f44c159",
   "metadata": {},
   "outputs": [
    {
     "data": {
      "text/plain": [
       "'an'"
      ]
     },
     "execution_count": 41,
     "metadata": {},
     "output_type": "execute_result"
    }
   ],
   "source": [
    "s[-2:]"
   ]
  },
  {
   "cell_type": "code",
   "execution_count": 42,
   "id": "706218a2",
   "metadata": {},
   "outputs": [
    {
     "data": {
      "text/plain": [
       "'rahulramachandran'"
      ]
     },
     "execution_count": 42,
     "metadata": {},
     "output_type": "execute_result"
    }
   ],
   "source": [
    "s[0:50:1]"
   ]
  },
  {
   "cell_type": "code",
   "execution_count": 43,
   "id": "3b6a541b",
   "metadata": {},
   "outputs": [
    {
     "data": {
      "text/plain": [
       "'nardnahcamarluhar'"
      ]
     },
     "execution_count": 43,
     "metadata": {},
     "output_type": "execute_result"
    }
   ],
   "source": [
    "s[::-1]"
   ]
  },
  {
   "cell_type": "code",
   "execution_count": 46,
   "id": "cb187ce7",
   "metadata": {},
   "outputs": [
    {
     "data": {
      "text/plain": [
       "'rahulramachandran'"
      ]
     },
     "execution_count": 46,
     "metadata": {},
     "output_type": "execute_result"
    }
   ],
   "source": [
    "s[::1]"
   ]
  },
  {
   "cell_type": "code",
   "execution_count": 47,
   "id": "868558a4",
   "metadata": {},
   "outputs": [
    {
     "data": {
      "text/plain": [
       "''"
      ]
     },
     "execution_count": 47,
     "metadata": {},
     "output_type": "execute_result"
    }
   ],
   "source": [
    "s[-2:-7:1]"
   ]
  },
  {
   "cell_type": "code",
   "execution_count": 48,
   "id": "81ab2c37",
   "metadata": {},
   "outputs": [],
   "source": [
    "s = \"ineuron\""
   ]
  },
  {
   "cell_type": "code",
   "execution_count": 49,
   "id": "1a837d1d",
   "metadata": {},
   "outputs": [
    {
     "data": {
      "text/plain": [
       "'ineuron'"
      ]
     },
     "execution_count": 49,
     "metadata": {},
     "output_type": "execute_result"
    }
   ],
   "source": [
    "s"
   ]
  },
  {
   "cell_type": "code",
   "execution_count": 50,
   "id": "bb9a711d",
   "metadata": {},
   "outputs": [
    {
     "data": {
      "text/plain": [
       "''"
      ]
     },
     "execution_count": 50,
     "metadata": {},
     "output_type": "execute_result"
    }
   ],
   "source": [
    "s[-2:-7:1]"
   ]
  },
  {
   "cell_type": "code",
   "execution_count": 51,
   "id": "0e46234d",
   "metadata": {},
   "outputs": [
    {
     "data": {
      "text/plain": [
       "'ineur'"
      ]
     },
     "execution_count": 51,
     "metadata": {},
     "output_type": "execute_result"
    }
   ],
   "source": [
    "s[-7:-2:1]"
   ]
  },
  {
   "cell_type": "code",
   "execution_count": 52,
   "id": "5cde1ee2",
   "metadata": {},
   "outputs": [
    {
     "data": {
      "text/plain": [
       "''"
      ]
     },
     "execution_count": 52,
     "metadata": {},
     "output_type": "execute_result"
    }
   ],
   "source": [
    "s[5:0]"
   ]
  },
  {
   "cell_type": "code",
   "execution_count": 53,
   "id": "8032d495",
   "metadata": {},
   "outputs": [
    {
     "data": {
      "text/plain": [
       "''"
      ]
     },
     "execution_count": 53,
     "metadata": {},
     "output_type": "execute_result"
    }
   ],
   "source": [
    "s[:-1:-1]"
   ]
  },
  {
   "cell_type": "code",
   "execution_count": 54,
   "id": "7cad77df",
   "metadata": {},
   "outputs": [],
   "source": [
    "s = \"sudhanshu\""
   ]
  },
  {
   "cell_type": "code",
   "execution_count": 55,
   "id": "7d20945d",
   "metadata": {},
   "outputs": [
    {
     "ename": "TypeError",
     "evalue": "can only concatenate str (not \"int\") to str",
     "output_type": "error",
     "traceback": [
      "\u001b[1;31m---------------------------------------------------------------------------\u001b[0m",
      "\u001b[1;31mTypeError\u001b[0m                                 Traceback (most recent call last)",
      "\u001b[1;32m~\\AppData\\Local\\Temp\\1/ipykernel_3120/3893389454.py\u001b[0m in \u001b[0;36m<module>\u001b[1;34m\u001b[0m\n\u001b[1;32m----> 1\u001b[1;33m \u001b[0ms\u001b[0m \u001b[1;33m+\u001b[0m \u001b[1;36m1\u001b[0m\u001b[1;33m\u001b[0m\u001b[1;33m\u001b[0m\u001b[0m\n\u001b[0m",
      "\u001b[1;31mTypeError\u001b[0m: can only concatenate str (not \"int\") to str"
     ]
    }
   ],
   "source": [
    "s + 1"
   ]
  },
  {
   "cell_type": "code",
   "execution_count": 56,
   "id": "c0bfb68a",
   "metadata": {},
   "outputs": [
    {
     "data": {
      "text/plain": [
       "'sudhanshu1'"
      ]
     },
     "execution_count": 56,
     "metadata": {},
     "output_type": "execute_result"
    }
   ],
   "source": [
    "s + \"1\""
   ]
  },
  {
   "cell_type": "code",
   "execution_count": 57,
   "id": "a654d443",
   "metadata": {},
   "outputs": [
    {
     "data": {
      "text/plain": [
       "'sudhanshu1'"
      ]
     },
     "execution_count": 57,
     "metadata": {},
     "output_type": "execute_result"
    }
   ],
   "source": [
    "s + str(1)"
   ]
  },
  {
   "cell_type": "code",
   "execution_count": 59,
   "id": "188e9907",
   "metadata": {},
   "outputs": [
    {
     "ename": "TypeError",
     "evalue": "can only concatenate str (not \"int\") to str",
     "output_type": "error",
     "traceback": [
      "\u001b[1;31m---------------------------------------------------------------------------\u001b[0m",
      "\u001b[1;31mTypeError\u001b[0m                                 Traceback (most recent call last)",
      "\u001b[1;32m~\\AppData\\Local\\Temp\\1/ipykernel_3120/560849981.py\u001b[0m in \u001b[0;36m<module>\u001b[1;34m\u001b[0m\n\u001b[1;32m----> 1\u001b[1;33m \u001b[1;34m\"sudhanshu\"\u001b[0m \u001b[1;33m+\u001b[0m \u001b[1;36m1234\u001b[0m\u001b[1;33m\u001b[0m\u001b[1;33m\u001b[0m\u001b[0m\n\u001b[0m",
      "\u001b[1;31mTypeError\u001b[0m: can only concatenate str (not \"int\") to str"
     ]
    }
   ],
   "source": [
    "\"sudhanshu\" + 1234"
   ]
  },
  {
   "cell_type": "code",
   "execution_count": 58,
   "id": "a5fe4d07",
   "metadata": {},
   "outputs": [
    {
     "data": {
      "text/plain": [
       "'sudhanshu1234'"
      ]
     },
     "execution_count": 58,
     "metadata": {},
     "output_type": "execute_result"
    }
   ],
   "source": [
    "\"sudhanshu\" + \"1234\""
   ]
  },
  {
   "cell_type": "code",
   "execution_count": 60,
   "id": "c9da9814",
   "metadata": {},
   "outputs": [
    {
     "data": {
      "text/plain": [
       "'sudhanshu'"
      ]
     },
     "execution_count": 60,
     "metadata": {},
     "output_type": "execute_result"
    }
   ],
   "source": [
    "s"
   ]
  },
  {
   "cell_type": "code",
   "execution_count": 61,
   "id": "9a4e3fb3",
   "metadata": {},
   "outputs": [
    {
     "data": {
      "text/plain": [
       "9"
      ]
     },
     "execution_count": 61,
     "metadata": {},
     "output_type": "execute_result"
    }
   ],
   "source": [
    "len(s)"
   ]
  },
  {
   "cell_type": "code",
   "execution_count": 62,
   "id": "08a5fef7",
   "metadata": {},
   "outputs": [
    {
     "data": {
      "text/plain": [
       "'sudhanshu'"
      ]
     },
     "execution_count": 62,
     "metadata": {},
     "output_type": "execute_result"
    }
   ],
   "source": [
    "s"
   ]
  },
  {
   "cell_type": "code",
   "execution_count": 63,
   "id": "433ff758",
   "metadata": {},
   "outputs": [
    {
     "data": {
      "text/plain": [
       "'sudhanshusudhanshu'"
      ]
     },
     "execution_count": 63,
     "metadata": {},
     "output_type": "execute_result"
    }
   ],
   "source": [
    "s * 2"
   ]
  },
  {
   "cell_type": "code",
   "execution_count": 64,
   "id": "a08f83bb",
   "metadata": {},
   "outputs": [
    {
     "data": {
      "text/plain": [
       "'sudhanshusudhanshusudhanshusudhanshu'"
      ]
     },
     "execution_count": 64,
     "metadata": {},
     "output_type": "execute_result"
    }
   ],
   "source": [
    "s * 4"
   ]
  },
  {
   "cell_type": "code",
   "execution_count": 65,
   "id": "368d0417",
   "metadata": {},
   "outputs": [
    {
     "data": {
      "text/plain": [
       "'sudhanshu'"
      ]
     },
     "execution_count": 65,
     "metadata": {},
     "output_type": "execute_result"
    }
   ],
   "source": [
    "s"
   ]
  },
  {
   "cell_type": "code",
   "execution_count": 66,
   "id": "c72f2948",
   "metadata": {},
   "outputs": [
    {
     "data": {
      "text/plain": [
       "2"
      ]
     },
     "execution_count": 66,
     "metadata": {},
     "output_type": "execute_result"
    }
   ],
   "source": [
    "s.count('s')"
   ]
  },
  {
   "cell_type": "code",
   "execution_count": 67,
   "id": "a9dcedc9",
   "metadata": {},
   "outputs": [
    {
     "data": {
      "text/plain": [
       "1"
      ]
     },
     "execution_count": 67,
     "metadata": {},
     "output_type": "execute_result"
    }
   ],
   "source": [
    "s.count('su')"
   ]
  },
  {
   "cell_type": "code",
   "execution_count": 68,
   "id": "4656717f",
   "metadata": {},
   "outputs": [
    {
     "data": {
      "text/plain": [
       "0"
      ]
     },
     "execution_count": 68,
     "metadata": {},
     "output_type": "execute_result"
    }
   ],
   "source": [
    "s.count('sum')"
   ]
  },
  {
   "cell_type": "code",
   "execution_count": 69,
   "id": "06f4a6ca",
   "metadata": {},
   "outputs": [
    {
     "data": {
      "text/plain": [
       "'sudhanshu'"
      ]
     },
     "execution_count": 69,
     "metadata": {},
     "output_type": "execute_result"
    }
   ],
   "source": [
    "s"
   ]
  },
  {
   "cell_type": "code",
   "execution_count": 70,
   "id": "9701789d",
   "metadata": {},
   "outputs": [
    {
     "data": {
      "text/plain": [
       "['s', 'dhansh', '']"
      ]
     },
     "execution_count": 70,
     "metadata": {},
     "output_type": "execute_result"
    }
   ],
   "source": [
    "s.split('u')"
   ]
  },
  {
   "cell_type": "code",
   "execution_count": 71,
   "id": "a6ce16d8",
   "metadata": {},
   "outputs": [
    {
     "data": {
      "text/plain": [
       "list"
      ]
     },
     "execution_count": 71,
     "metadata": {},
     "output_type": "execute_result"
    }
   ],
   "source": [
    "type(s.split('u'))"
   ]
  },
  {
   "cell_type": "code",
   "execution_count": 72,
   "id": "ac0fef1c",
   "metadata": {},
   "outputs": [],
   "source": [
    "s = \"usudanshu\""
   ]
  },
  {
   "cell_type": "code",
   "execution_count": 73,
   "id": "7204d7cb",
   "metadata": {},
   "outputs": [
    {
     "data": {
      "text/plain": [
       "'usudanshu'"
      ]
     },
     "execution_count": 73,
     "metadata": {},
     "output_type": "execute_result"
    }
   ],
   "source": [
    "s"
   ]
  },
  {
   "cell_type": "code",
   "execution_count": 74,
   "id": "625bbdf9",
   "metadata": {},
   "outputs": [
    {
     "data": {
      "text/plain": [
       "['', 's', 'dansh', '']"
      ]
     },
     "execution_count": 74,
     "metadata": {},
     "output_type": "execute_result"
    }
   ],
   "source": [
    "s.split('u')"
   ]
  },
  {
   "cell_type": "code",
   "execution_count": 78,
   "id": "0e47694d",
   "metadata": {},
   "outputs": [],
   "source": [
    "sw =  \"\"\"Google LLC (/ˈɡuːɡəl/ (listen)) is an American multinational technology company that focuses on artificial intelligence,[10] search engine technology, online advertising, cloud computing, computer software, quantum computing, e-commerce, and consumer electronics. It has been referred to as the \"most powerful company in the world\" and one of the world's most valuable brands due to its market dominance, data collection, and technological advantages in the area of artificial intelligence.[11][12][13][14] It is considered one of the Big Five American information technology companies, alongside Amazon, Apple, Meta, and Microsoft.\"\"\""
   ]
  },
  {
   "cell_type": "code",
   "execution_count": 79,
   "id": "b742b5d4",
   "metadata": {},
   "outputs": [
    {
     "data": {
      "text/plain": [
       "'Google LLC (/ˈɡuːɡəl/ (listen)) is an American multinational technology company that focuses on artificial intelligence,[10] search engine technology, online advertising, cloud computing, computer software, quantum computing, e-commerce, and consumer electronics. It has been referred to as the \"most powerful company in the world\" and one of the world\\'s most valuable brands due to its market dominance, data collection, and technological advantages in the area of artificial intelligence.[11][12][13][14] It is considered one of the Big Five American information technology companies, alongside Amazon, Apple, Meta, and Microsoft.'"
      ]
     },
     "execution_count": 79,
     "metadata": {},
     "output_type": "execute_result"
    }
   ],
   "source": [
    "sw"
   ]
  },
  {
   "cell_type": "code",
   "execution_count": 80,
   "id": "26df1f22",
   "metadata": {},
   "outputs": [
    {
     "data": {
      "text/plain": [
       "['Google LLC (/ˈɡuːɡəl/ (l',\n",
       " 'sten)) ',\n",
       " 's an Amer',\n",
       " 'can mult',\n",
       " 'nat',\n",
       " 'onal technology company that focuses on art',\n",
       " 'f',\n",
       " 'c',\n",
       " 'al ',\n",
       " 'ntell',\n",
       " 'gence,[10] search eng',\n",
       " 'ne technology, onl',\n",
       " 'ne advert',\n",
       " 's',\n",
       " 'ng, cloud comput',\n",
       " 'ng, computer software, quantum comput',\n",
       " 'ng, e-commerce, and consumer electron',\n",
       " 'cs. It has been referred to as the \"most powerful company ',\n",
       " 'n the world\" and one of the world\\'s most valuable brands due to ',\n",
       " 'ts market dom',\n",
       " 'nance, data collect',\n",
       " 'on, and technolog',\n",
       " 'cal advantages ',\n",
       " 'n the area of art',\n",
       " 'f',\n",
       " 'c',\n",
       " 'al ',\n",
       " 'ntell',\n",
       " 'gence.[11][12][13][14] It ',\n",
       " 's cons',\n",
       " 'dered one of the B',\n",
       " 'g F',\n",
       " 've Amer',\n",
       " 'can ',\n",
       " 'nformat',\n",
       " 'on technology compan',\n",
       " 'es, alongs',\n",
       " 'de Amazon, Apple, Meta, and M',\n",
       " 'crosoft.']"
      ]
     },
     "execution_count": 80,
     "metadata": {},
     "output_type": "execute_result"
    }
   ],
   "source": [
    "sw.split('i')"
   ]
  },
  {
   "cell_type": "code",
   "execution_count": 81,
   "id": "d618ea64",
   "metadata": {},
   "outputs": [
    {
     "data": {
      "text/plain": [
       "['Google',\n",
       " 'LLC',\n",
       " '(/ˈɡuːɡəl/',\n",
       " '(listen))',\n",
       " 'is',\n",
       " 'an',\n",
       " 'American',\n",
       " 'multinational',\n",
       " 'technology',\n",
       " 'company',\n",
       " 'that',\n",
       " 'focuses',\n",
       " 'on',\n",
       " 'artificial',\n",
       " 'intelligence,[10]',\n",
       " 'search',\n",
       " 'engine',\n",
       " 'technology,',\n",
       " 'online',\n",
       " 'advertising,',\n",
       " 'cloud',\n",
       " 'computing,',\n",
       " 'computer',\n",
       " 'software,',\n",
       " 'quantum',\n",
       " 'computing,',\n",
       " 'e-commerce,',\n",
       " 'and',\n",
       " 'consumer',\n",
       " 'electronics.',\n",
       " 'It',\n",
       " 'has',\n",
       " 'been',\n",
       " 'referred',\n",
       " 'to',\n",
       " 'as',\n",
       " 'the',\n",
       " '\"most',\n",
       " 'powerful',\n",
       " 'company',\n",
       " 'in',\n",
       " 'the',\n",
       " 'world\"',\n",
       " 'and',\n",
       " 'one',\n",
       " 'of',\n",
       " 'the',\n",
       " \"world's\",\n",
       " 'most',\n",
       " 'valuable',\n",
       " 'brands',\n",
       " 'due',\n",
       " 'to',\n",
       " 'its',\n",
       " 'market',\n",
       " 'dominance,',\n",
       " 'data',\n",
       " 'collection,',\n",
       " 'and',\n",
       " 'technological',\n",
       " 'advantages',\n",
       " 'in',\n",
       " 'the',\n",
       " 'area',\n",
       " 'of',\n",
       " 'artificial',\n",
       " 'intelligence.[11][12][13][14]',\n",
       " 'It',\n",
       " 'is',\n",
       " 'considered',\n",
       " 'one',\n",
       " 'of',\n",
       " 'the',\n",
       " 'Big',\n",
       " 'Five',\n",
       " 'American',\n",
       " 'information',\n",
       " 'technology',\n",
       " 'companies,',\n",
       " 'alongside',\n",
       " 'Amazon,',\n",
       " 'Apple,',\n",
       " 'Meta,',\n",
       " 'and',\n",
       " 'Microsoft.']"
      ]
     },
     "execution_count": 81,
     "metadata": {},
     "output_type": "execute_result"
    }
   ],
   "source": [
    "sw.split(' ')"
   ]
  },
  {
   "cell_type": "code",
   "execution_count": 82,
   "id": "67a7566c",
   "metadata": {},
   "outputs": [
    {
     "data": {
      "text/plain": [
       "3"
      ]
     },
     "execution_count": 82,
     "metadata": {},
     "output_type": "execute_result"
    }
   ],
   "source": [
    "sw.count('technology')"
   ]
  },
  {
   "cell_type": "code",
   "execution_count": 83,
   "id": "be56613c",
   "metadata": {},
   "outputs": [
    {
     "data": {
      "text/plain": [
       "'GOOGLE LLC (/ˈꞬUːꞬƏL/ (LISTEN)) IS AN AMERICAN MULTINATIONAL TECHNOLOGY COMPANY THAT FOCUSES ON ARTIFICIAL INTELLIGENCE,[10] SEARCH ENGINE TECHNOLOGY, ONLINE ADVERTISING, CLOUD COMPUTING, COMPUTER SOFTWARE, QUANTUM COMPUTING, E-COMMERCE, AND CONSUMER ELECTRONICS. IT HAS BEEN REFERRED TO AS THE \"MOST POWERFUL COMPANY IN THE WORLD\" AND ONE OF THE WORLD\\'S MOST VALUABLE BRANDS DUE TO ITS MARKET DOMINANCE, DATA COLLECTION, AND TECHNOLOGICAL ADVANTAGES IN THE AREA OF ARTIFICIAL INTELLIGENCE.[11][12][13][14] IT IS CONSIDERED ONE OF THE BIG FIVE AMERICAN INFORMATION TECHNOLOGY COMPANIES, ALONGSIDE AMAZON, APPLE, META, AND MICROSOFT.'"
      ]
     },
     "execution_count": 83,
     "metadata": {},
     "output_type": "execute_result"
    }
   ],
   "source": [
    "sw.upper()"
   ]
  },
  {
   "cell_type": "code",
   "execution_count": 84,
   "id": "39986ed3",
   "metadata": {},
   "outputs": [
    {
     "data": {
      "text/plain": [
       "'Google LLC (/ˈɡuːɡəl/ (listen)) is an American multinational technology company that focuses on artificial intelligence,[10] search engine technology, online advertising, cloud computing, computer software, quantum computing, e-commerce, and consumer electronics. It has been referred to as the \"most powerful company in the world\" and one of the world\\'s most valuable brands due to its market dominance, data collection, and technological advantages in the area of artificial intelligence.[11][12][13][14] It is considered one of the Big Five American information technology companies, alongside Amazon, Apple, Meta, and Microsoft.'"
      ]
     },
     "execution_count": 84,
     "metadata": {},
     "output_type": "execute_result"
    }
   ],
   "source": [
    "sw"
   ]
  },
  {
   "cell_type": "code",
   "execution_count": 85,
   "id": "12166166",
   "metadata": {},
   "outputs": [
    {
     "data": {
      "text/plain": [
       "'google llc (/ˈɡuːɡəl/ (listen)) is an american multinational technology company that focuses on artificial intelligence,[10] search engine technology, online advertising, cloud computing, computer software, quantum computing, e-commerce, and consumer electronics. it has been referred to as the \"most powerful company in the world\" and one of the world\\'s most valuable brands due to its market dominance, data collection, and technological advantages in the area of artificial intelligence.[11][12][13][14] it is considered one of the big five american information technology companies, alongside amazon, apple, meta, and microsoft.'"
      ]
     },
     "execution_count": 85,
     "metadata": {},
     "output_type": "execute_result"
    }
   ],
   "source": [
    "sw.lower()"
   ]
  },
  {
   "cell_type": "code",
   "execution_count": 86,
   "id": "0e4a1771",
   "metadata": {},
   "outputs": [],
   "source": [
    "sw = sw.upper()"
   ]
  },
  {
   "cell_type": "code",
   "execution_count": 87,
   "id": "5b13eab5",
   "metadata": {},
   "outputs": [
    {
     "data": {
      "text/plain": [
       "'GOOGLE LLC (/ˈꞬUːꞬƏL/ (LISTEN)) IS AN AMERICAN MULTINATIONAL TECHNOLOGY COMPANY THAT FOCUSES ON ARTIFICIAL INTELLIGENCE,[10] SEARCH ENGINE TECHNOLOGY, ONLINE ADVERTISING, CLOUD COMPUTING, COMPUTER SOFTWARE, QUANTUM COMPUTING, E-COMMERCE, AND CONSUMER ELECTRONICS. IT HAS BEEN REFERRED TO AS THE \"MOST POWERFUL COMPANY IN THE WORLD\" AND ONE OF THE WORLD\\'S MOST VALUABLE BRANDS DUE TO ITS MARKET DOMINANCE, DATA COLLECTION, AND TECHNOLOGICAL ADVANTAGES IN THE AREA OF ARTIFICIAL INTELLIGENCE.[11][12][13][14] IT IS CONSIDERED ONE OF THE BIG FIVE AMERICAN INFORMATION TECHNOLOGY COMPANIES, ALONGSIDE AMAZON, APPLE, META, AND MICROSOFT.'"
      ]
     },
     "execution_count": 87,
     "metadata": {},
     "output_type": "execute_result"
    }
   ],
   "source": [
    "sw"
   ]
  },
  {
   "cell_type": "code",
   "execution_count": 88,
   "id": "ce12fde0",
   "metadata": {},
   "outputs": [
    {
     "data": {
      "text/plain": [
       "'google llc (/ˈɡuːɡəl/ (listen)) is an american multinational technology company that focuses on artificial intelligence,[10] search engine technology, online advertising, cloud computing, computer software, quantum computing, e-commerce, and consumer electronics. it has been referred to as the \"most powerful company in the world\" and one of the world\\'s most valuable brands due to its market dominance, data collection, and technological advantages in the area of artificial intelligence.[11][12][13][14] it is considered one of the big five american information technology companies, alongside amazon, apple, meta, and microsoft.'"
      ]
     },
     "execution_count": 88,
     "metadata": {},
     "output_type": "execute_result"
    }
   ],
   "source": [
    "sw.lower()"
   ]
  },
  {
   "cell_type": "code",
   "execution_count": 95,
   "id": "b2f24b7d",
   "metadata": {},
   "outputs": [],
   "source": [
    "s = \"sudhanshu Kumar\""
   ]
  },
  {
   "cell_type": "code",
   "execution_count": 96,
   "id": "7976eb0c",
   "metadata": {},
   "outputs": [
    {
     "data": {
      "text/plain": [
       "'sudhanshu Kumar'"
      ]
     },
     "execution_count": 96,
     "metadata": {},
     "output_type": "execute_result"
    }
   ],
   "source": [
    "s"
   ]
  },
  {
   "cell_type": "code",
   "execution_count": 97,
   "id": "0faccb75",
   "metadata": {},
   "outputs": [
    {
     "data": {
      "text/plain": [
       "'Sudhanshu Kumar'"
      ]
     },
     "execution_count": 97,
     "metadata": {},
     "output_type": "execute_result"
    }
   ],
   "source": [
    "s.title()"
   ]
  },
  {
   "cell_type": "code",
   "execution_count": 98,
   "id": "bb61a452",
   "metadata": {},
   "outputs": [
    {
     "data": {
      "text/plain": [
       "'Sudhanshu kumar'"
      ]
     },
     "execution_count": 98,
     "metadata": {},
     "output_type": "execute_result"
    }
   ],
   "source": [
    "s.capitalize()"
   ]
  },
  {
   "cell_type": "code",
   "execution_count": 99,
   "id": "7f65393b",
   "metadata": {},
   "outputs": [],
   "source": [
    "s = \"Sudhanshu kuMAR\""
   ]
  },
  {
   "cell_type": "code",
   "execution_count": 100,
   "id": "aac88288",
   "metadata": {},
   "outputs": [
    {
     "data": {
      "text/plain": [
       "'Sudhanshu kuMAR'"
      ]
     },
     "execution_count": 100,
     "metadata": {},
     "output_type": "execute_result"
    }
   ],
   "source": [
    "s"
   ]
  },
  {
   "cell_type": "code",
   "execution_count": 101,
   "id": "b05c5822",
   "metadata": {},
   "outputs": [
    {
     "data": {
      "text/plain": [
       "'sUDHANSHU KUmar'"
      ]
     },
     "execution_count": 101,
     "metadata": {},
     "output_type": "execute_result"
    }
   ],
   "source": [
    "s.swapcase()"
   ]
  },
  {
   "cell_type": "code",
   "execution_count": 102,
   "id": "c91b536f",
   "metadata": {},
   "outputs": [
    {
     "data": {
      "text/plain": [
       "<reversed at 0x2596ab7e2e0>"
      ]
     },
     "execution_count": 102,
     "metadata": {},
     "output_type": "execute_result"
    }
   ],
   "source": [
    "reversed(s)"
   ]
  },
  {
   "cell_type": "code",
   "execution_count": 104,
   "id": "de389ad1",
   "metadata": {},
   "outputs": [
    {
     "data": {
      "text/plain": [
       "'RAMuk uhsnahduS'"
      ]
     },
     "execution_count": 104,
     "metadata": {},
     "output_type": "execute_result"
    }
   ],
   "source": [
    "''.join(reversed(s))"
   ]
  },
  {
   "cell_type": "code",
   "execution_count": 107,
   "id": "8bc34cd0",
   "metadata": {},
   "outputs": [],
   "source": [
    "s = \"   su  dh   \""
   ]
  },
  {
   "cell_type": "code",
   "execution_count": 108,
   "id": "15b30811",
   "metadata": {},
   "outputs": [
    {
     "data": {
      "text/plain": [
       "'su  dh'"
      ]
     },
     "execution_count": 108,
     "metadata": {},
     "output_type": "execute_result"
    }
   ],
   "source": [
    "s .strip()"
   ]
  },
  {
   "cell_type": "code",
   "execution_count": 109,
   "id": "c8ffd414",
   "metadata": {},
   "outputs": [
    {
     "data": {
      "text/plain": [
       "'su  dh   '"
      ]
     },
     "execution_count": 109,
     "metadata": {},
     "output_type": "execute_result"
    }
   ],
   "source": [
    "s.lstrip()"
   ]
  },
  {
   "cell_type": "code",
   "execution_count": 110,
   "id": "915da08c",
   "metadata": {},
   "outputs": [
    {
     "data": {
      "text/plain": [
       "'   su  dh'"
      ]
     },
     "execution_count": 110,
     "metadata": {},
     "output_type": "execute_result"
    }
   ],
   "source": [
    "s.rstrip()"
   ]
  },
  {
   "cell_type": "code",
   "execution_count": 111,
   "id": "28ad287c",
   "metadata": {},
   "outputs": [
    {
     "data": {
      "text/plain": [
       "'s    u    d    h    a    n    s    h    u'"
      ]
     },
     "execution_count": 111,
     "metadata": {},
     "output_type": "execute_result"
    }
   ],
   "source": [
    "\"    \".join(\"sudhanshu\")"
   ]
  },
  {
   "cell_type": "code",
   "execution_count": 112,
   "id": "16fce1a6",
   "metadata": {},
   "outputs": [
    {
     "data": {
      "text/plain": [
       "'sauadahaaanasahau'"
      ]
     },
     "execution_count": 112,
     "metadata": {},
     "output_type": "execute_result"
    }
   ],
   "source": [
    "\"a\".join(\"sudhanshu\")"
   ]
  },
  {
   "cell_type": "code",
   "execution_count": 113,
   "id": "a0d4c216",
   "metadata": {},
   "outputs": [],
   "source": [
    "s = \"sudh\""
   ]
  },
  {
   "cell_type": "code",
   "execution_count": 114,
   "id": "4f96b142",
   "metadata": {},
   "outputs": [
    {
     "data": {
      "text/plain": [
       "'zzzzzzzzsudhzzzzzzzz'"
      ]
     },
     "execution_count": 114,
     "metadata": {},
     "output_type": "execute_result"
    }
   ],
   "source": [
    "s.center(20,'z')"
   ]
  },
  {
   "cell_type": "code",
   "execution_count": 115,
   "id": "c664c850",
   "metadata": {},
   "outputs": [
    {
     "data": {
      "text/plain": [
       "'########sudh########'"
      ]
     },
     "execution_count": 115,
     "metadata": {},
     "output_type": "execute_result"
    }
   ],
   "source": [
    "s.center(20,'#')"
   ]
  },
  {
   "cell_type": "code",
   "execution_count": 117,
   "id": "04d871a8",
   "metadata": {},
   "outputs": [],
   "source": [
    "s = \"Sudhanshu\""
   ]
  },
  {
   "cell_type": "code",
   "execution_count": 118,
   "id": "94c71107",
   "metadata": {},
   "outputs": [
    {
     "data": {
      "text/plain": [
       "False"
      ]
     },
     "execution_count": 118,
     "metadata": {},
     "output_type": "execute_result"
    }
   ],
   "source": [
    "s.isupper()"
   ]
  },
  {
   "cell_type": "code",
   "execution_count": 119,
   "id": "7d0022a9",
   "metadata": {},
   "outputs": [],
   "source": [
    "s1 = \"SUDH\""
   ]
  },
  {
   "cell_type": "code",
   "execution_count": 120,
   "id": "53174225",
   "metadata": {},
   "outputs": [
    {
     "data": {
      "text/plain": [
       "True"
      ]
     },
     "execution_count": 120,
     "metadata": {},
     "output_type": "execute_result"
    }
   ],
   "source": [
    "s1.isupper()"
   ]
  },
  {
   "cell_type": "code",
   "execution_count": 121,
   "id": "c63ea007",
   "metadata": {},
   "outputs": [
    {
     "data": {
      "text/plain": [
       "False"
      ]
     },
     "execution_count": 121,
     "metadata": {},
     "output_type": "execute_result"
    }
   ],
   "source": [
    "s.islower()"
   ]
  },
  {
   "cell_type": "code",
   "execution_count": 122,
   "id": "2e03d4cf",
   "metadata": {},
   "outputs": [],
   "source": [
    "s2 = \"sudh\""
   ]
  },
  {
   "cell_type": "code",
   "execution_count": 123,
   "id": "e5d9e91e",
   "metadata": {},
   "outputs": [
    {
     "data": {
      "text/plain": [
       "True"
      ]
     },
     "execution_count": 123,
     "metadata": {},
     "output_type": "execute_result"
    }
   ],
   "source": [
    "s2.islower()"
   ]
  },
  {
   "cell_type": "code",
   "execution_count": 124,
   "id": "a1bfe543",
   "metadata": {},
   "outputs": [
    {
     "data": {
      "text/plain": [
       "'Sudhanshu'"
      ]
     },
     "execution_count": 124,
     "metadata": {},
     "output_type": "execute_result"
    }
   ],
   "source": [
    "s"
   ]
  },
  {
   "cell_type": "code",
   "execution_count": 125,
   "id": "ce5e7b12",
   "metadata": {},
   "outputs": [
    {
     "data": {
      "text/plain": [
       "False"
      ]
     },
     "execution_count": 125,
     "metadata": {},
     "output_type": "execute_result"
    }
   ],
   "source": [
    "s.isspace()"
   ]
  },
  {
   "cell_type": "code",
   "execution_count": 126,
   "id": "656745e9",
   "metadata": {},
   "outputs": [],
   "source": [
    "s4 = \"    \""
   ]
  },
  {
   "cell_type": "code",
   "execution_count": 127,
   "id": "e9e17e5e",
   "metadata": {},
   "outputs": [
    {
     "data": {
      "text/plain": [
       "True"
      ]
     },
     "execution_count": 127,
     "metadata": {},
     "output_type": "execute_result"
    }
   ],
   "source": [
    "s4.isspace()"
   ]
  },
  {
   "cell_type": "code",
   "execution_count": 128,
   "id": "cef6e203",
   "metadata": {},
   "outputs": [
    {
     "data": {
      "text/plain": [
       "'Sudhanshu'"
      ]
     },
     "execution_count": 128,
     "metadata": {},
     "output_type": "execute_result"
    }
   ],
   "source": [
    "s"
   ]
  },
  {
   "cell_type": "code",
   "execution_count": 129,
   "id": "cd323d8b",
   "metadata": {},
   "outputs": [
    {
     "data": {
      "text/plain": [
       "False"
      ]
     },
     "execution_count": 129,
     "metadata": {},
     "output_type": "execute_result"
    }
   ],
   "source": [
    "s.isdigit()"
   ]
  },
  {
   "cell_type": "code",
   "execution_count": 130,
   "id": "7469804c",
   "metadata": {},
   "outputs": [],
   "source": [
    "s5 = \"232344535\""
   ]
  },
  {
   "cell_type": "code",
   "execution_count": 131,
   "id": "9870a1a6",
   "metadata": {},
   "outputs": [
    {
     "data": {
      "text/plain": [
       "True"
      ]
     },
     "execution_count": 131,
     "metadata": {},
     "output_type": "execute_result"
    }
   ],
   "source": [
    "s5.isdigit()"
   ]
  },
  {
   "cell_type": "code",
   "execution_count": 132,
   "id": "0845b2fd",
   "metadata": {},
   "outputs": [],
   "source": [
    "s6 = \"ifg56778\""
   ]
  },
  {
   "cell_type": "code",
   "execution_count": 133,
   "id": "63f30285",
   "metadata": {},
   "outputs": [
    {
     "data": {
      "text/plain": [
       "False"
      ]
     },
     "execution_count": 133,
     "metadata": {},
     "output_type": "execute_result"
    }
   ],
   "source": [
    "s6.isdigit()"
   ]
  },
  {
   "cell_type": "code",
   "execution_count": 134,
   "id": "1b443ad4",
   "metadata": {},
   "outputs": [
    {
     "data": {
      "text/plain": [
       "'Sudhanshu'"
      ]
     },
     "execution_count": 134,
     "metadata": {},
     "output_type": "execute_result"
    }
   ],
   "source": [
    "s"
   ]
  },
  {
   "cell_type": "code",
   "execution_count": 135,
   "id": "809d1f11",
   "metadata": {},
   "outputs": [
    {
     "data": {
      "text/plain": [
       "True"
      ]
     },
     "execution_count": 135,
     "metadata": {},
     "output_type": "execute_result"
    }
   ],
   "source": [
    "s.isalnum()"
   ]
  },
  {
   "cell_type": "code",
   "execution_count": 136,
   "id": "1a83326e",
   "metadata": {},
   "outputs": [
    {
     "data": {
      "text/plain": [
       "True"
      ]
     },
     "execution_count": 136,
     "metadata": {},
     "output_type": "execute_result"
    }
   ],
   "source": [
    "s.isalpha()"
   ]
  },
  {
   "cell_type": "code",
   "execution_count": 137,
   "id": "4bfceb7e",
   "metadata": {},
   "outputs": [],
   "source": [
    "s7 = \"34556qwert\""
   ]
  },
  {
   "cell_type": "code",
   "execution_count": 138,
   "id": "86b9aee0",
   "metadata": {},
   "outputs": [
    {
     "data": {
      "text/plain": [
       "False"
      ]
     },
     "execution_count": 138,
     "metadata": {},
     "output_type": "execute_result"
    }
   ],
   "source": [
    "s7.isalpha()"
   ]
  },
  {
   "cell_type": "code",
   "execution_count": 139,
   "id": "02cbd516",
   "metadata": {},
   "outputs": [
    {
     "data": {
      "text/plain": [
       "'Sudhanshu'"
      ]
     },
     "execution_count": 139,
     "metadata": {},
     "output_type": "execute_result"
    }
   ],
   "source": [
    "s"
   ]
  },
  {
   "cell_type": "code",
   "execution_count": 140,
   "id": "553b9c0a",
   "metadata": {},
   "outputs": [
    {
     "data": {
      "text/plain": [
       "False"
      ]
     },
     "execution_count": 140,
     "metadata": {},
     "output_type": "execute_result"
    }
   ],
   "source": [
    "s.startswith('i')"
   ]
  },
  {
   "cell_type": "code",
   "execution_count": 141,
   "id": "45f6576f",
   "metadata": {},
   "outputs": [
    {
     "data": {
      "text/plain": [
       "False"
      ]
     },
     "execution_count": 141,
     "metadata": {},
     "output_type": "execute_result"
    }
   ],
   "source": [
    "s.startswith('s')"
   ]
  },
  {
   "cell_type": "code",
   "execution_count": 143,
   "id": "7a705812",
   "metadata": {},
   "outputs": [
    {
     "data": {
      "text/plain": [
       "True"
      ]
     },
     "execution_count": 143,
     "metadata": {},
     "output_type": "execute_result"
    }
   ],
   "source": [
    "s.startswith('S')"
   ]
  },
  {
   "cell_type": "code",
   "execution_count": 144,
   "id": "445e2100",
   "metadata": {},
   "outputs": [
    {
     "data": {
      "text/plain": [
       "False"
      ]
     },
     "execution_count": 144,
     "metadata": {},
     "output_type": "execute_result"
    }
   ],
   "source": [
    "s.endswith(\"n\")"
   ]
  },
  {
   "cell_type": "code",
   "execution_count": 145,
   "id": "b8035fd9",
   "metadata": {},
   "outputs": [
    {
     "data": {
      "text/plain": [
       "True"
      ]
     },
     "execution_count": 145,
     "metadata": {},
     "output_type": "execute_result"
    }
   ],
   "source": [
    "s.endswith('u')"
   ]
  },
  {
   "cell_type": "code",
   "execution_count": 146,
   "id": "fe413683",
   "metadata": {},
   "outputs": [
    {
     "data": {
      "text/plain": [
       "'Sudhanshu'"
      ]
     },
     "execution_count": 146,
     "metadata": {},
     "output_type": "execute_result"
    }
   ],
   "source": [
    "s"
   ]
  },
  {
   "cell_type": "code",
   "execution_count": 147,
   "id": "4c8b5745",
   "metadata": {},
   "outputs": [
    {
     "data": {
      "text/plain": [
       "False"
      ]
     },
     "execution_count": 147,
     "metadata": {},
     "output_type": "execute_result"
    }
   ],
   "source": [
    "s.isdigit()"
   ]
  },
  {
   "cell_type": "code",
   "execution_count": 148,
   "id": "459f318c",
   "metadata": {},
   "outputs": [
    {
     "data": {
      "text/plain": [
       "False"
      ]
     },
     "execution_count": 148,
     "metadata": {},
     "output_type": "execute_result"
    }
   ],
   "source": [
    "s.isnumeric()"
   ]
  },
  {
   "cell_type": "code",
   "execution_count": 149,
   "id": "a4f64a1c",
   "metadata": {},
   "outputs": [
    {
     "data": {
      "text/plain": [
       "False"
      ]
     },
     "execution_count": 149,
     "metadata": {},
     "output_type": "execute_result"
    }
   ],
   "source": [
    "s.startswith(\" \")"
   ]
  },
  {
   "cell_type": "code",
   "execution_count": 150,
   "id": "0b186daa",
   "metadata": {},
   "outputs": [
    {
     "data": {
      "text/plain": [
       "True"
      ]
     },
     "execution_count": 150,
     "metadata": {},
     "output_type": "execute_result"
    }
   ],
   "source": [
    "s.startswith(\"\")"
   ]
  },
  {
   "cell_type": "code",
   "execution_count": 151,
   "id": "47487086",
   "metadata": {},
   "outputs": [
    {
     "data": {
      "text/plain": [
       "True"
      ]
     },
     "execution_count": 151,
     "metadata": {},
     "output_type": "execute_result"
    }
   ],
   "source": [
    "s.isascii()"
   ]
  },
  {
   "cell_type": "code",
   "execution_count": 155,
   "id": "1659d488",
   "metadata": {},
   "outputs": [],
   "source": [
    "s = \"ineuron\""
   ]
  },
  {
   "cell_type": "code",
   "execution_count": 156,
   "id": "89c0a81a",
   "metadata": {},
   "outputs": [
    {
     "data": {
      "text/plain": [
       "<reversed at 0x2596b30b910>"
      ]
     },
     "execution_count": 156,
     "metadata": {},
     "output_type": "execute_result"
    }
   ],
   "source": [
    "reversed(s)"
   ]
  },
  {
   "cell_type": "code",
   "execution_count": 157,
   "id": "024af2d4",
   "metadata": {},
   "outputs": [
    {
     "data": {
      "text/plain": [
       "'idndedudrdodn'"
      ]
     },
     "execution_count": 157,
     "metadata": {},
     "output_type": "execute_result"
    }
   ],
   "source": [
    "'d'.join(s)"
   ]
  },
  {
   "cell_type": "code",
   "execution_count": 158,
   "id": "11797d44",
   "metadata": {},
   "outputs": [
    {
     "data": {
      "text/plain": [
       "'norueni'"
      ]
     },
     "execution_count": 158,
     "metadata": {},
     "output_type": "execute_result"
    }
   ],
   "source": [
    "\"\".join(reversed(s))"
   ]
  },
  {
   "cell_type": "code",
   "execution_count": 159,
   "id": "387a1630",
   "metadata": {},
   "outputs": [],
   "source": [
    "s = \"1234.567\""
   ]
  },
  {
   "cell_type": "code",
   "execution_count": 160,
   "id": "688bd749",
   "metadata": {},
   "outputs": [
    {
     "data": {
      "text/plain": [
       "False"
      ]
     },
     "execution_count": 160,
     "metadata": {},
     "output_type": "execute_result"
    }
   ],
   "source": [
    "s.isnumeric()"
   ]
  },
  {
   "cell_type": "code",
   "execution_count": 161,
   "id": "d58c06d3",
   "metadata": {},
   "outputs": [
    {
     "data": {
      "text/plain": [
       "False"
      ]
     },
     "execution_count": 161,
     "metadata": {},
     "output_type": "execute_result"
    }
   ],
   "source": [
    "s.isdigit()"
   ]
  },
  {
   "cell_type": "code",
   "execution_count": 3,
   "id": "e0e0ecc2",
   "metadata": {},
   "outputs": [],
   "source": [
    "s = \"rahul\\trama\\tchandran\""
   ]
  },
  {
   "cell_type": "code",
   "execution_count": 4,
   "id": "7b4ceeb8",
   "metadata": {},
   "outputs": [
    {
     "data": {
      "text/plain": [
       "'rahul   rama    chandran'"
      ]
     },
     "execution_count": 4,
     "metadata": {},
     "output_type": "execute_result"
    }
   ],
   "source": [
    "s.expandtabs()"
   ]
  },
  {
   "cell_type": "code",
   "execution_count": 5,
   "id": "edee6fd6",
   "metadata": {},
   "outputs": [],
   "source": [
    "s = \"this is my First Pyhton programming class and i am learNING pyhton string and its function\""
   ]
  },
  {
   "cell_type": "code",
   "execution_count": 6,
   "id": "a37e1280",
   "metadata": {},
   "outputs": [
    {
     "data": {
      "text/plain": [
       "'h   r hnrrmglsnimeNGyosi dtfco'"
      ]
     },
     "execution_count": 6,
     "metadata": {},
     "output_type": "execute_result"
    }
   ],
   "source": [
    "# Try to extract data from index one to index 300 with a jump of 3\n",
    "s[1:300:3]"
   ]
  },
  {
   "cell_type": "code",
   "execution_count": 7,
   "id": "01e307c4",
   "metadata": {},
   "outputs": [
    {
     "data": {
      "text/plain": [
       "'noitcnuf sti dna gnirts nothyp GNINrael ma i dna ssalc gnimmargorp nothyP tsriF ym si siht'"
      ]
     },
     "execution_count": 7,
     "metadata": {},
     "output_type": "execute_result"
    }
   ],
   "source": [
    "#Try to reverse a string without using reverse function\n",
    "s[::-1]"
   ]
  },
  {
   "cell_type": "code",
   "execution_count": 9,
   "id": "eb56c4e5",
   "metadata": {},
   "outputs": [
    {
     "data": {
      "text/plain": [
       "['THIS',\n",
       " 'IS',\n",
       " 'MY',\n",
       " 'FIRST',\n",
       " 'PYHTON',\n",
       " 'PROGRAMMING',\n",
       " 'CLASS',\n",
       " 'AND',\n",
       " 'I',\n",
       " 'AM',\n",
       " 'LEARNING',\n",
       " 'PYHTON',\n",
       " 'STRING',\n",
       " 'AND',\n",
       " 'ITS',\n",
       " 'FUNCTION']"
      ]
     },
     "execution_count": 9,
     "metadata": {},
     "output_type": "execute_result"
    }
   ],
   "source": [
    "#Try to split a string after conversion of entire string in uppercase\n",
    "s.upper().split(' ')"
   ]
  },
  {
   "cell_type": "code",
   "execution_count": 10,
   "id": "24b58cdc",
   "metadata": {},
   "outputs": [
    {
     "ename": "NameError",
     "evalue": "name 'split' is not defined",
     "output_type": "error",
     "traceback": [
      "\u001b[1;31m---------------------------------------------------------------------------\u001b[0m",
      "\u001b[1;31mNameError\u001b[0m                                 Traceback (most recent call last)",
      "\u001b[1;32m~\\AppData\\Local\\Temp\\1/ipykernel_12680/1918811331.py\u001b[0m in \u001b[0;36m<module>\u001b[1;34m\u001b[0m\n\u001b[1;32m----> 1\u001b[1;33m \u001b[0msplit\u001b[0m\u001b[1;33m(\u001b[0m\u001b[0ms\u001b[0m\u001b[1;33m.\u001b[0m\u001b[0mupper\u001b[0m\u001b[1;33m(\u001b[0m\u001b[1;33m)\u001b[0m\u001b[1;33m)\u001b[0m\u001b[1;33m\u001b[0m\u001b[1;33m\u001b[0m\u001b[0m\n\u001b[0m",
      "\u001b[1;31mNameError\u001b[0m: name 'split' is not defined"
     ]
    }
   ],
   "source": [
    "split(s.upper())"
   ]
  },
  {
   "cell_type": "code",
   "execution_count": 11,
   "id": "27c73f17",
   "metadata": {},
   "outputs": [
    {
     "data": {
      "text/plain": [
       "'this is my first pyhton programming class and i am learning pyhton string and its function'"
      ]
     },
     "execution_count": 11,
     "metadata": {},
     "output_type": "execute_result"
    }
   ],
   "source": [
    "#try to convert the whole string in lower case\n",
    "s.lower()"
   ]
  },
  {
   "cell_type": "code",
   "execution_count": 12,
   "id": "a4c6f2e6",
   "metadata": {},
   "outputs": [
    {
     "data": {
      "text/plain": [
       "'This is my first pyhton programming class and i am learning pyhton string and its function'"
      ]
     },
     "execution_count": 12,
     "metadata": {},
     "output_type": "execute_result"
    }
   ],
   "source": [
    "#try to capitalize the whole string\n",
    "s.capitalize()"
   ]
  },
  {
   "cell_type": "code",
   "execution_count": 13,
   "id": "0b47e222",
   "metadata": {},
   "outputs": [],
   "source": [
    "#write down the difference between isalnum() and isalpha()\n",
    "s = \"rahul123\""
   ]
  },
  {
   "cell_type": "code",
   "execution_count": 17,
   "id": "5b405c3f",
   "metadata": {},
   "outputs": [
    {
     "data": {
      "text/plain": [
       "True"
      ]
     },
     "execution_count": 17,
     "metadata": {},
     "output_type": "execute_result"
    }
   ],
   "source": [
    "s.isalnum()\n",
    "#Return True if the string is an alpha-numeric string, False otherwise.\n",
    "\n",
    "#A string is alpha-numeric if all characters in the string are alpha-numeric and\n",
    "#there is at least one character in the string."
   ]
  },
  {
   "cell_type": "code",
   "execution_count": 18,
   "id": "a7f8a0aa",
   "metadata": {},
   "outputs": [
    {
     "data": {
      "text/plain": [
       "False"
      ]
     },
     "execution_count": 18,
     "metadata": {},
     "output_type": "execute_result"
    }
   ],
   "source": [
    "s.isalpha()\n",
    "#Return True if the string is an alphabetic string, False otherwise.\n",
    "\n",
    "#A string is alphabetic if all characters in the string are alphabetic and there\n",
    "#is at least one character in the string."
   ]
  },
  {
   "cell_type": "code",
   "execution_count": 20,
   "id": "ed1fb766",
   "metadata": {},
   "outputs": [
    {
     "data": {
      "text/plain": [
       "' rahul  rama    chandran'"
      ]
     },
     "execution_count": 20,
     "metadata": {},
     "output_type": "execute_result"
    }
   ],
   "source": [
    "#Try to give example of expand tab\n",
    "s =\" rahul\\trama\\tchandran\"\n",
    "s.expandtabs()"
   ]
  },
  {
   "cell_type": "code",
   "execution_count": 6,
   "id": "b8ef47d5",
   "metadata": {},
   "outputs": [],
   "source": [
    "#Example of strip ,  lstrip and rstrip\n",
    "s = \"   Ra ma ca   \""
   ]
  },
  {
   "cell_type": "code",
   "execution_count": 7,
   "id": "1a1f7336",
   "metadata": {},
   "outputs": [
    {
     "data": {
      "text/plain": [
       "'Ra ma ca'"
      ]
     },
     "execution_count": 7,
     "metadata": {},
     "output_type": "execute_result"
    }
   ],
   "source": [
    "s.strip()"
   ]
  },
  {
   "cell_type": "code",
   "execution_count": 8,
   "id": "d94daf0c",
   "metadata": {},
   "outputs": [
    {
     "data": {
      "text/plain": [
       "'Ra ma ca   '"
      ]
     },
     "execution_count": 8,
     "metadata": {},
     "output_type": "execute_result"
    }
   ],
   "source": [
    "s.lstrip()"
   ]
  },
  {
   "cell_type": "code",
   "execution_count": 9,
   "id": "5b193c11",
   "metadata": {},
   "outputs": [
    {
     "data": {
      "text/plain": [
       "'   Ra ma ca'"
      ]
     },
     "execution_count": 9,
     "metadata": {},
     "output_type": "execute_result"
    }
   ],
   "source": [
    "s.rstrip()"
   ]
  },
  {
   "cell_type": "code",
   "execution_count": 10,
   "id": "dc215c7b",
   "metadata": {},
   "outputs": [],
   "source": [
    "#Replace a string character by another character by taking your own example\n",
    "s = \"Rahul Rama Chandran\""
   ]
  },
  {
   "cell_type": "code",
   "execution_count": 11,
   "id": "6791da80",
   "metadata": {},
   "outputs": [
    {
     "ename": "TypeError",
     "evalue": "'str' object does not support item assignment",
     "output_type": "error",
     "traceback": [
      "\u001b[1;31m---------------------------------------------------------------------------\u001b[0m",
      "\u001b[1;31mTypeError\u001b[0m                                 Traceback (most recent call last)",
      "\u001b[1;32m~\\AppData\\Local\\Temp\\1/ipykernel_5060/4060568702.py\u001b[0m in \u001b[0;36m<module>\u001b[1;34m\u001b[0m\n\u001b[1;32m----> 1\u001b[1;33m \u001b[0ms\u001b[0m\u001b[1;33m[\u001b[0m\u001b[1;36m0\u001b[0m\u001b[1;33m]\u001b[0m \u001b[1;33m=\u001b[0m \u001b[1;34m\"S\"\u001b[0m\u001b[1;33m\u001b[0m\u001b[1;33m\u001b[0m\u001b[0m\n\u001b[0m",
      "\u001b[1;31mTypeError\u001b[0m: 'str' object does not support item assignment"
     ]
    }
   ],
   "source": [
    "s[0] = \"S\""
   ]
  },
  {
   "cell_type": "code",
   "execution_count": 15,
   "id": "ad9ba243",
   "metadata": {},
   "outputs": [
    {
     "data": {
      "text/plain": [
       "'Aahul Rama Chandran'"
      ]
     },
     "execution_count": 15,
     "metadata": {},
     "output_type": "execute_result"
    }
   ],
   "source": [
    "s.replace(\"R\",\"A\",1)"
   ]
  },
  {
   "cell_type": "code",
   "execution_count": 16,
   "id": "c967b888",
   "metadata": {},
   "outputs": [
    {
     "data": {
      "text/plain": [
       "'Rahul Rama Chandran'"
      ]
     },
     "execution_count": 16,
     "metadata": {},
     "output_type": "execute_result"
    }
   ],
   "source": [
    "#Try to give a definition of string center function with an example\n",
    "s"
   ]
  },
  {
   "cell_type": "code",
   "execution_count": 22,
   "id": "b20553ac",
   "metadata": {},
   "outputs": [
    {
     "data": {
      "text/plain": [
       "'Rahul Rama Chandran '"
      ]
     },
     "execution_count": 22,
     "metadata": {},
     "output_type": "execute_result"
    }
   ],
   "source": [
    "s.center(20,' ')"
   ]
  },
  {
   "cell_type": "code",
   "execution_count": 23,
   "id": "400fa67d",
   "metadata": {},
   "outputs": [],
   "source": [
    "s = \"Rahul\""
   ]
  },
  {
   "cell_type": "code",
   "execution_count": 25,
   "id": "1d36661b",
   "metadata": {},
   "outputs": [
    {
     "data": {
      "text/plain": [
       "'##Rahul###'"
      ]
     },
     "execution_count": 25,
     "metadata": {},
     "output_type": "execute_result"
    }
   ],
   "source": [
    "s.center(10,\"#\")"
   ]
  },
  {
   "cell_type": "code",
   "execution_count": null,
   "id": "6638e209",
   "metadata": {},
   "outputs": [],
   "source": [
    "#Write down the defenition of compiler and interpretor\n",
    "#python is compiled or interperted language\n",
    "#Write a use case of python "
   ]
  }
 ],
 "metadata": {
  "kernelspec": {
   "display_name": "Python 3 (ipykernel)",
   "language": "python",
   "name": "python3"
  },
  "language_info": {
   "codemirror_mode": {
    "name": "ipython",
    "version": 3
   },
   "file_extension": ".py",
   "mimetype": "text/x-python",
   "name": "python",
   "nbconvert_exporter": "python",
   "pygments_lexer": "ipython3",
   "version": "3.9.7"
  }
 },
 "nbformat": 4,
 "nbformat_minor": 5
}
